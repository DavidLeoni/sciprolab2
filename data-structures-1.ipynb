{
 "cells": [
  {
   "cell_type": "code",
   "execution_count": 1,
   "metadata": {
    "collapsed": false,
    "deletable": true,
    "editable": true,
    "nbsphinx": "hidden"
   },
   "outputs": [
    {
     "data": {
      "text/html": [
       "<style>\n",
       "\n",
       "    #jupman-nav {\n",
       "        position: fixed;\n",
       "        top: 10px; \n",
       "        left: 5px; \n",
       "        background: white;\n",
       "        width: 200px; \n",
       "        padding: 10px; \n",
       "        z-index: 10;\n",
       "    }\n",
       "\n",
       "    /* style=\"background: rgba(255, 255, 255, 0);\" class=\"unstyled\" */\n",
       "  \n",
       "    #jupman-toc {\n",
       "        position: fixed;\n",
       "        top: 100px; \n",
       "        left: -55px; \n",
       "        background: rgba(255, 255, 255, 0);\n",
       "        \n",
       "        height: 80%;\n",
       "        width: 200px; \n",
       "        padding: 20px; \n",
       "        z-index: 10;\n",
       "        overflow-y: scroll;        \n",
       "            /* font-size: 50%; */\n",
       "    }\n",
       "\n",
       "    \n",
       "    \n",
       "    code {\n",
       "        background-color:rgb(245, 249, 249) !important;\n",
       "    }\n",
       "    \n",
       "    \n",
       "    .jupman-nav-item {\n",
       "        font-weight:bold;\n",
       "        font-size:120%  \n",
       "    }\n",
       "    \n",
       "    .jupman-chapter-link {\n",
       "        font-size:150%;\n",
       "        margin-right:15px;        \n",
       "    }\n",
       "    \n",
       "    .jupman-chapter-link a {\n",
       "        text-decoration: none;\n",
       "    }    \n",
       "    \n",
       "    .jupman-title {\n",
       "        font-size:250%; \n",
       "        font-weight:bold        \n",
       "    }    \n",
       "        \n",
       "    .jupman-warn {    \n",
       "        background-color: #fcf2f2;        \n",
       "        border-left: 5px solid #dfb5b4;\n",
       "        padding: 1.5em;\n",
       "        font-weight:bold;\n",
       "        margin-bottom:10px;\n",
       "    }\n",
       "\n",
       "    .jupman-question {    \n",
       "        background-color: rgb(251, 231, 250);\n",
       "        border-left: 5px solid rgb(189, 151, 184);\n",
       "        padding: 1.5em;\n",
       "        font-weight:bold;\n",
       "        margin-bottom:10px;\n",
       "    }\n",
       "        \n",
       "    \n",
       "    .jupman-important {\n",
       "        background-color: rgba(255, 238, 0, 0.31);\n",
       "        border-left: 5px solid rgba(205, 208, 0, 1.0);\n",
       "        color: #000;        \n",
       "        padding: 1.5em;\n",
       "        font-weight:bold;\n",
       "        margin-bottom:10px;\n",
       "    }\n",
       "    \n",
       "    \n",
       "    #jupman-toc ul {                                                                                                                                                                           \n",
       "        list-style-type: none;                                                                                                                                                                 \n",
       "        margin-left: 5px;\n",
       "    }\n",
       "    \n",
       "    #jupman-toc li {        \n",
       "         padding-left: 3px;\n",
       "    }    \n",
       "    \n",
       "    #jupman-toc .h1 {\n",
       "        font-size:110%; \n",
       "        \n",
       "    }\n",
       "    \n",
       "    #jupman-toc .h2 {\n",
       "        font-size:100%; \n",
       "        padding-left:15px;\n",
       "    }\n",
       "\n",
       "    #jupman-toc .h3 {\n",
       "        font-size:100%; \n",
       "        padding-left:25px;\n",
       "    }\n",
       "    \n",
       "    \n",
       "    \n",
       "    #notebook-container {\n",
       "        box-shadow : none;\n",
       "\t-web-kit-box-shadow: none;\n",
       "    }\n",
       "    \n",
       "\n",
       "    #jupman-toc .toc-active {\n",
       "        background: rgba(168, 254, 255, 0.32);\n",
       "    }\n",
       "\n",
       "    .jupman-solution {       \n",
       "        padding:1px;\n",
       "    }\n",
       "\n",
       "    .jupman-solution-header {\n",
       "        display:none;\n",
       "        color: blue;\n",
       "        text-decoration: underline;\n",
       "        cursor: pointer;\n",
       "    }\n",
       " </style>\n",
       "\n",
       "<script>\n",
       "var JUPMAN_IN_JUPYTER = true;\n",
       "/*!\n",
       " * toc - jQuery Table of Contents Plugin\n",
       " * v0.3.2\n",
       " * http://projects.jga.me/toc/\n",
       " * copyright Greg Allen 2014\n",
       " * MIT License\n",
       "*/\n",
       "!function(a){a.fn.smoothScroller=function(b){b=a.extend({},a.fn.smoothScroller.defaults,b);var c=a(this);return a(b.scrollEl).animate({scrollTop:c.offset().top-a(b.scrollEl).offset().top-b.offset},b.speed,b.ease,function(){var a=c.attr(\"id\");a.length&&(history.pushState?history.pushState(null,null,\"#\"+a):document.location.hash=a),c.trigger(\"smoothScrollerComplete\")}),this},a.fn.smoothScroller.defaults={speed:400,ease:\"swing\",scrollEl:\"body,html\",offset:0},a(\"body\").on(\"click\",\"[data-smoothscroller]\",function(b){b.preventDefault();var c=a(this).attr(\"href\");0===c.indexOf(\"#\")&&a(c).smoothScroller()})}(jQuery),function(a){var b={};a.fn.toc=function(b){var c,d=this,e=a.extend({},jQuery.fn.toc.defaults,b),f=a(e.container),g=a(e.selectors,f),h=[],i=e.activeClass,j=function(b,c){if(e.smoothScrolling&&\"function\"==typeof e.smoothScrolling){b.preventDefault();var f=a(b.target).attr(\"href\");e.smoothScrolling(f,e,c)}a(\"li\",d).removeClass(i),a(b.target).parent().addClass(i)},k=function(){c&&clearTimeout(c),c=setTimeout(function(){for(var b,c=a(window).scrollTop(),f=Number.MAX_VALUE,g=0,j=0,k=h.length;k>j;j++){var l=Math.abs(h[j]-c);f>l&&(g=j,f=l)}a(\"li\",d).removeClass(i),b=a(\"li:eq(\"+g+\")\",d).addClass(i),e.onHighlight(b)},50)};return e.highlightOnScroll&&(a(window).bind(\"scroll\",k),k()),this.each(function(){var b=a(this),c=a(e.listType);g.each(function(d,f){var g=a(f);h.push(g.offset().top-e.highlightOffset);var i=e.anchorName(d,f,e.prefix);if(f.id!==i){a(\"<span/>\").attr(\"id\",i).insertBefore(g)}var l=a(\"<a/>\").text(e.headerText(d,f,g)).attr(\"href\",\"#\"+i).bind(\"click\",function(c){a(window).unbind(\"scroll\",k),j(c,function(){a(window).bind(\"scroll\",k)}),b.trigger(\"selected\",a(this).attr(\"href\"))}),m=a(\"<li/>\").addClass(e.itemClass(d,f,g,e.prefix)).append(l);c.append(m)}),b.html(c)})},jQuery.fn.toc.defaults={container:\"body\",listType:\"<ul/>\",selectors:\"h1,h2,h3\",smoothScrolling:function(b,c,d){a(b).smoothScroller({offset:c.scrollToOffset}).on(\"smoothScrollerComplete\",function(){d()})},scrollToOffset:0,prefix:\"toc\",activeClass:\"toc-active\",onHighlight:function(){},highlightOnScroll:!0,highlightOffset:100,anchorName:function(c,d,e){if(d.id.length)return d.id;var f=a(d).text().replace(/[^a-z0-9]/gi,\" \").replace(/\\s+/g,\"-\").toLowerCase();if(b[f]){for(var g=2;b[f+g];)g++;f=f+\"-\"+g}return b[f]=!0,e+\"-\"+f},headerText:function(a,b,c){return c.text()},itemClass:function(a,b,c,d){return d+\"-\"+c[0].tagName.toLowerCase()}}}(jQuery);\n",
       "\n",
       "/*\n",
       " * JUPYTER MANAGER JavaScript https://github.com/DavidLeoni/jupman \n",
       " * \n",
       " */\n",
       "\n",
       "function toggleVisibility(what){\n",
       "        var e = document.getElementById(what);\n",
       "        if(e.style.display == 'block')\n",
       "          e.style.display = 'none';\n",
       "        else\n",
       "          e.style.display = 'block';\n",
       "    };\n",
       "    \n",
       "\n",
       "function showthis(url) {\n",
       "    window.open(url, \"pres\", \"toolbar=yes,scrollbars=yes,resizable=yes,top=10,left=400,width=500,height=500\");\n",
       "    return(false);\n",
       "}\n",
       "\n",
       "var jupman = {\n",
       "    \n",
       "    isReduced : function(){\n",
       "        return $(window).width() < 924;\n",
       "    },\n",
       "    hoverToc : function(){\n",
       "        return $('#jupman-toc:hover').length != 0;\n",
       "    },\n",
       "    resize : function(){\n",
       "        if (jupman.isReduced()){\n",
       "            $(\"#jupman-toc\").hide();\n",
       "        } else {\n",
       "            $(\"#jupman-toc\").show();\n",
       "            $(\"#jupman-toc\").css(\"background\",\"rgba(255, 255, 255, 0)\");\n",
       "            \n",
       "            tocParams = {\n",
       "                \n",
       "                'selectors': 'h1,h2,h3', //elements to use as headings\n",
       "                'container': 'body', //element to find all selectors in\n",
       "                'smoothScrolling': true, //enable or disable smooth scrolling on click\n",
       "                 //doesn't work  'prefix': 'jupman-toc', //prefix for anchor tags and class names\n",
       "                //'onHighlight': function(el) {}, //called when a new section is highlighted \n",
       "                'highlightOnScroll': true, //add class to heading that is currently in focus\n",
       "                'highlightOffset': 100, //offset to trigger the next headline\n",
       "                'anchorName': function(i, heading, prefix) { //custom function for anchor name\n",
       "                    return prefix+i;\n",
       "                },\n",
       "                'headerText': function(i, heading, $heading) { //custom function building the header-item text                  \n",
       "                    return $heading.text().replace(\"¶\",\"\");\n",
       "                },\n",
       "                'itemClass': function(i, heading, $heading, prefix) { // custom function for item class\n",
       "                    return $heading[0].tagName.toLowerCase();\n",
       "                }                \n",
       "            }\n",
       "            \n",
       "            $('#jupman-toc').toc(tocParams);\n",
       "        }\n",
       "    },\n",
       "    /**\n",
       "        Hides cell input\n",
       "        \n",
       "        Renamed in 0.19\n",
       "    */    \n",
       "    hideCell : function(prefixOrRegex){\n",
       "        \n",
       "        $('.border-box-sizing .code_cell pre').filter(function() { \n",
       "                var t = $(this).text();\n",
       "                if (typeof prefixOrRegex == \"string\"){\n",
       "                    return t.indexOf(prefixOrRegex) === 0;\n",
       "                } else if ( prefixOrRegex instanceof RegExp){\n",
       "                    return t.match(prefixOrRegex);\n",
       "                } else {\n",
       "                    console.error(\"Invalid argument:\", prefixOrRegex);\n",
       "                    throw new Error(\"Invalid argument!\");\n",
       "                }\n",
       "            }).parents('div .cell .input').hide();        \n",
       "    },\n",
       "    /**\n",
       "        Hides the cell input AND output.\n",
       "        \n",
       "        @since 0.19\n",
       "    */\n",
       "    hideCellAll : function(prefix){        \n",
       "        $('.border-box-sizing .code_cell pre').filter(function() { \n",
       "                return $(this).text().indexOf(prefix) === 0; \n",
       "            }).parents('div .cell ').hide();        \n",
       "    },\n",
       "    \n",
       "    toggleVisibility: function(what){\n",
       "        var e = document.getElementById(what);\n",
       "        if(e.style.display == 'block')\n",
       "          e.style.display = 'none';\n",
       "        else\n",
       "          e.style.display = 'block';\n",
       "    },\n",
       "    \n",
       "    /**\n",
       "     *  Code common to both jupman in jupyter and ReadTheDocs\n",
       "    */\n",
       "    initCommon : function(){\n",
       "        \n",
       "        $(\".jupman-solution-header\").remove();\n",
       "        span = $('<div>');\n",
       "        span.addClass('jupman-solution-header');\n",
       "        span.text('Show/hide solution');\n",
       "        \n",
       "        span.insertBefore(\".jupman-solution\");\n",
       "        \n",
       "        \n",
       "        $(\".jupman-solution\").hide();\n",
       "        $(\".jupman-solution-header\").show();\n",
       "\n",
       "        $('.jupman-solution-header')\n",
       "            .off('click')\n",
       "            .click(function(){\n",
       "                \n",
       "                var uls = $(this).nextAll(\".jupman-solution\");             \n",
       "                var sibling = uls.eq(0);\n",
       "                          \n",
       "                sibling.slideToggle();        \n",
       "                ev.preventDefault();\n",
       "                ev.stopPropagation();\n",
       "        });\n",
       "\n",
       "    },\n",
       "\n",
       "    /**\n",
       "     *   Jupyter only instructions - doesn't run on ReadTheDocs\n",
       "     */\n",
       "    initJupyter : function(){\n",
       "        \n",
       "       var toc = $(\"<div>\").attr(\"id\", \"jupman-toc\");              \n",
       "       var indexLink = $(\"<a>\")\n",
       "                        .addClass(\"jupman-nav-item\")\n",
       "                        .attr(\"href\",\"index.html#Chapters\")\n",
       "                        .text(\"jupman\");\n",
       "       \n",
       "       var candidateTitleText = $(\".jupman-title\").text();              \n",
       "                                  \n",
       "                    \n",
       "       \n",
       "       var nav = $(\"<div>\")\n",
       "                     .attr(\"id\", \"jupman-nav\")\n",
       "                    .append(indexLink);       \n",
       "       \n",
       "       if (candidateTitleText.length !== 0){\n",
       "\n",
       "           var title = $(\"<span>\")\n",
       "                    .addClass(\"jupman-nav-item\")\n",
       "                    .css(\"padding-left\",\"8px\")\n",
       "                    .text(candidateTitleText);\n",
       "            nav.append(\"<br>\")\n",
       "                .append(\"<br>\")\n",
       "                .append(title);                                \n",
       "        }\n",
       "          \n",
       "        \n",
       "        \n",
       "       // TODO THIS HIDE STUFF DOES NOT WORK ANYMORE AFTER PORTING TO NBSPHINX \n",
       "       // WE SHOULD USE \n",
       "       // \n",
       "       jupman.hideCell(\"%%HTML\");\n",
       "       jupman.hideCell(\"import jupman\");   \n",
       "       \n",
       "        // TODO this is a bit too hacky   \n",
       "       jupman.hideCell(/from exercise(.+)_solution import \\*/)\n",
       "       \n",
       "       jupman.hideCell(\"jupman.init()\"); \n",
       "       jupman.hideCell(\"jupman.show_run(\");\n",
       "       jupman.hideCell(\"nxpd.draw(\");\n",
       "       jupman.hideCellAll(\"jupman.run(\"); \n",
       "              \n",
       "       if ($(\"#jupman-toc\").length === 0){\n",
       "           $(\"body\").append(toc);       \n",
       "       } else {\n",
       "           $(\"#jupman-toc\").replaceWith(toc);\n",
       "       }\n",
       "       \n",
       "       if ($(\"#jupman-nav\").length === 0){\n",
       "           $(\"body\").append(nav);       \n",
       "       } else {\n",
       "           $(\"#jupman-nav\").replaceWith(nav);\n",
       "       }              \n",
       "\n",
       "       \n",
       "        $( window ).resize(function() {\n",
       "            jupman.resize();\n",
       "        });\n",
       "\n",
       "\n",
       "        $(\"body\").on(\"mousemove\",function(event) {\n",
       "            if (jupman.isReduced()){\n",
       "                if (event.pageX < 50) {            \n",
       "                     $(\"#jupman-toc\").show(); \n",
       "                    $(\"#jupman-toc\").css(\"background\",\"rgba(255, 255, 255, 1.0)\");\n",
       "                } else {\n",
       "\n",
       "                    if (jupman.hoverToc()) {                    \n",
       "                    } else {\n",
       "                        $(\"#jupman-toc\").hide();                        \n",
       "                    }\n",
       "\n",
       "        /*            if ($(\"#jupman-toc\").is(\":visible\")){\n",
       "                        if (jupman.hoverToc()) {                    \n",
       "                        } else {\n",
       "                            $(\"#jupman-toc\").hide();                        \n",
       "                        }\n",
       "                    } else {\n",
       "                        if (jupman.hoverToc())\n",
       "                          show\n",
       "                      } else {\n",
       "                        $(\"#jupman-toc\").hide();                        \n",
       "                       }                 \n",
       "                    }\n",
       "          */     \n",
       "                }\n",
       "            }\n",
       "        });\n",
       " \n",
       "        \n",
       "       jupman.resize();\n",
       "       console.log(\"Finished initializing jupman.js in Jupyter Notebook.\")\n",
       "    },\n",
       "    \n",
       "    /**\n",
       "    * RTD only instructions\n",
       "    */\n",
       "    initReadTheDocs : function(){  \n",
       "        \n",
       "        console.log(\"Finished initializing jupman.js in ReadTheDocs\")        \n",
       "    },\n",
       "    \n",
       "    /**\n",
       "     * Initializes jupman.js\n",
       "     */\n",
       "    init : function(){\n",
       "\n",
       "       jupman.initCommon();\n",
       "        \n",
       "       if (typeof JUPMAN_IN_JUPYTER === \"undefined\" || !JUPMAN_IN_JUPYTER ){            \n",
       "           jupman.initReadTheDocs();\n",
       "       } else {\n",
       "           jupman.initJupyter();\n",
       "       }\n",
       "        \n",
       "    }\n",
       "}\n",
       "\n",
       "$(document).ready(jupman.init);\n",
       "\n",
       "</script>\n"
      ],
      "text/plain": [
       "<IPython.core.display.HTML object>"
      ]
     },
     "execution_count": 1,
     "metadata": {},
     "output_type": "execute_result"
    }
   ],
   "source": [
    "import jupman\n",
    "jupman.init()"
   ]
  },
  {
   "cell_type": "markdown",
   "metadata": {
    "deletable": true,
    "editable": true
   },
   "source": [
    "# Chapter 1.1: Data Structures - ComplexNumber\n"
   ]
  },
  {
   "cell_type": "markdown",
   "metadata": {
    "deletable": true,
    "editable": true
   },
   "source": [
    "\n",
    "\n",
    "## 1. Abstract Data Types (ADT) Theory\n",
    "\n",
    "### 1.1.  Intro\n",
    "\n",
    "* Theory from the slides: http://disi.unitn.it/~montreso/sp/slides/B02-strutture.pdf (First slides until slide 13 'Comments' )\n",
    "* Object Oriented programming on the [the book](http://interactivepython.org/runestone/static/pythonds/Introduction/ObjectOrientedProgramminginPythonDefiningClasses.html) (In particular, [Fraction class](http://interactivepython.org/runestone/static/pythonds/Introduction/ObjectOrientedProgramminginPythonDefiningClasses.html#a-fraction-class), in this course we won't focus on inheritance)\n",
    "* Solutions [are at the bottom](#Solutions)\n",
    "\n",
    "\n",
    "### 1.2. Complex number theory\n",
    "\n",
    "![Complex number definition from Wikipedia](img/complex-numbers-definition.png)"
   ]
  },
  {
   "cell_type": "markdown",
   "metadata": {
    "deletable": true,
    "editable": true
   },
   "source": [
    "\n",
    "### 1.3. Datatypes the old way\n",
    "\n",
    "From the definition we see that to identify a complex number **we need two float values** . One number is for the **_real_ part**, and another number is for the **_imaginary_ part**. \n",
    "\n",
    "How can we represent this in Python? So far, you saw there are many ways to put two numbers together. One way could be to put the numbers in a list of two elements, and implicitly assume the first one is the _real_ and the second the _imaginary_ part:\n"
   ]
  },
  {
   "cell_type": "code",
   "execution_count": 2,
   "metadata": {
    "collapsed": false,
    "deletable": true,
    "editable": true
   },
   "outputs": [],
   "source": [
    "c = [3.0, 5.0] "
   ]
  },
  {
   "cell_type": "markdown",
   "metadata": {
    "deletable": true,
    "editable": true
   },
   "source": [
    "Or we could use a tuple:"
   ]
  },
  {
   "cell_type": "code",
   "execution_count": 3,
   "metadata": {
    "collapsed": true,
    "deletable": true,
    "editable": true
   },
   "outputs": [],
   "source": [
    "c = (3.0, 5.0)"
   ]
  },
  {
   "cell_type": "markdown",
   "metadata": {
    "deletable": true,
    "editable": true
   },
   "source": [
    "\n",
    "\n",
    "A problem with the previous representations is that a casual observer might not know exactly the meaning of the two numbers.  We could be more explicit and store the values into a dictionary, using keys to identify the two parts:"
   ]
  },
  {
   "cell_type": "code",
   "execution_count": 4,
   "metadata": {
    "collapsed": false,
    "deletable": true,
    "editable": true
   },
   "outputs": [],
   "source": [
    "c = {'real': 3.0, 'imaginary': 5.0}"
   ]
  },
  {
   "cell_type": "code",
   "execution_count": 5,
   "metadata": {
    "collapsed": false,
    "deletable": true,
    "editable": true
   },
   "outputs": [
    {
     "name": "stdout",
     "output_type": "stream",
     "text": [
      "{'imaginary': 5.0, 'real': 3.0}\n"
     ]
    }
   ],
   "source": [
    "print(c)"
   ]
  },
  {
   "cell_type": "code",
   "execution_count": 6,
   "metadata": {
    "collapsed": false,
    "deletable": true,
    "editable": true
   },
   "outputs": [
    {
     "name": "stdout",
     "output_type": "stream",
     "text": [
      "3.0\n"
     ]
    }
   ],
   "source": [
    "print(c['real'])"
   ]
  },
  {
   "cell_type": "code",
   "execution_count": 7,
   "metadata": {
    "collapsed": false,
    "deletable": true,
    "editable": true
   },
   "outputs": [
    {
     "name": "stdout",
     "output_type": "stream",
     "text": [
      "5.0\n"
     ]
    }
   ],
   "source": [
    "print(c['imaginary'])"
   ]
  },
  {
   "cell_type": "markdown",
   "metadata": {
    "deletable": true,
    "editable": true
   },
   "source": [
    "Now, writing the whole record ```{'real': 3.0, 'imaginary': 5.0}``` each time \n",
    "we want to create a complex number might be annoying and error prone. To help us, we can create a little shortcut \n",
    "function named `complex_number` that creates and returns the dictionary:"
   ]
  },
  {
   "cell_type": "code",
   "execution_count": 8,
   "metadata": {
    "collapsed": true,
    "deletable": true,
    "editable": true
   },
   "outputs": [],
   "source": [
    "def complex_number(real, imaginary):\n",
    "    d = {}\n",
    "    d['real'] = real\n",
    "    d['imaginary'] = imaginary\n",
    "    return d"
   ]
  },
  {
   "cell_type": "code",
   "execution_count": 9,
   "metadata": {
    "collapsed": false,
    "deletable": true,
    "editable": true
   },
   "outputs": [],
   "source": [
    "c = complex_number(3.0, 5.0)"
   ]
  },
  {
   "cell_type": "code",
   "execution_count": 10,
   "metadata": {
    "collapsed": false,
    "deletable": true,
    "editable": true
   },
   "outputs": [
    {
     "name": "stdout",
     "output_type": "stream",
     "text": [
      "{'imaginary': 5.0, 'real': 3.0}\n"
     ]
    }
   ],
   "source": [
    "print(c)"
   ]
  },
  {
   "cell_type": "markdown",
   "metadata": {
    "deletable": true,
    "editable": true
   },
   "source": [
    "To do something with our dictionary, we would then define functions, like for example `complex_str` to show them nicely:"
   ]
  },
  {
   "cell_type": "code",
   "execution_count": 11,
   "metadata": {
    "collapsed": true,
    "deletable": true,
    "editable": true
   },
   "outputs": [],
   "source": [
    "def complex_str(cn):\n",
    "    return str(cn['real']) + \" + \" + str(cn['imaginary']) + \"i\""
   ]
  },
  {
   "cell_type": "code",
   "execution_count": 12,
   "metadata": {
    "collapsed": false,
    "deletable": true,
    "editable": true
   },
   "outputs": [
    {
     "name": "stdout",
     "output_type": "stream",
     "text": [
      "3.0 + 5.0i\n"
     ]
    }
   ],
   "source": [
    "c = complex_number(3.0, 5.0)\n",
    "print(complex_str(c))"
   ]
  },
  {
   "cell_type": "markdown",
   "metadata": {
    "deletable": true,
    "editable": true
   },
   "source": [
    "We could do something more complex, like defining the `phase` of the complex number which returns a `float`:"
   ]
  },
  {
   "cell_type": "markdown",
   "metadata": {
    "collapsed": false,
    "deletable": true,
    "editable": true
   },
   "source": [
    "<div class=\"alert alert-info\">\n",
    "\n",
    "**IMPORTANT**: In these exercises, we care about programming, not complex numbers theory. There's no need to break your head over formulas!\n",
    "</div>"
   ]
  },
  {
   "cell_type": "code",
   "execution_count": 13,
   "metadata": {
    "collapsed": true,
    "deletable": true,
    "editable": true
   },
   "outputs": [],
   "source": [
    "import math\n",
    "def phase(cn):\n",
    "        \"\"\" Returns a float which is the phase (that is, the vector angle) of the complex number \n",
    "                    \n",
    "            See definition: https://en.wikipedia.org/wiki/Complex_number#Absolute_value_and_argument\n",
    "        \"\"\"\n",
    "        return math.atan2(cn['imaginary'], cn['real'])\n"
   ]
  },
  {
   "cell_type": "code",
   "execution_count": 14,
   "metadata": {
    "collapsed": false,
    "deletable": true,
    "editable": true
   },
   "outputs": [
    {
     "name": "stdout",
     "output_type": "stream",
     "text": [
      "1.0303768265243125\n"
     ]
    }
   ],
   "source": [
    "c = complex_number(3.0, 5.0)\n",
    "print(phase(c))"
   ]
  },
  {
   "cell_type": "markdown",
   "metadata": {
    "deletable": true,
    "editable": true
   },
   "source": [
    "We could even define functions that that take the complex number and some other parameter, for example we could define the `log` of complex numbers, which return another complex number (mathematically it would be infinitely many, but we just pick the first one in the series):"
   ]
  },
  {
   "cell_type": "code",
   "execution_count": 15,
   "metadata": {
    "collapsed": true,
    "deletable": true,
    "editable": true
   },
   "outputs": [],
   "source": [
    "import math\n",
    "def log(cn, base):\n",
    "        \"\"\" Returns another complex number which is the logarithm of this complex number \n",
    "            \n",
    "            See definition (accomodated for generic base b):\n",
    "            https://en.wikipedia.org/wiki/Complex_number#Natural_logarithm\n",
    "        \"\"\"      \n",
    "        return {'real':math.log(cn['real']) / math.log(base), \n",
    "                'imaginary' : phase(cn) / math.log(base)}"
   ]
  },
  {
   "cell_type": "code",
   "execution_count": 16,
   "metadata": {
    "collapsed": false,
    "deletable": true,
    "editable": true
   },
   "outputs": [
    {
     "name": "stdout",
     "output_type": "stream",
     "text": [
      "{'imaginary': 1.4865195378735334, 'real': 1.5849625007211563}\n"
     ]
    }
   ],
   "source": [
    "print(log(c,2))"
   ]
  },
  {
   "cell_type": "markdown",
   "metadata": {
    "deletable": true,
    "editable": true
   },
   "source": [
    "You see we got our dictionary representing a complex number. If we want a nicer display we can call on it the `complex_str` we defined:"
   ]
  },
  {
   "cell_type": "code",
   "execution_count": 17,
   "metadata": {
    "collapsed": false,
    "deletable": true,
    "editable": true
   },
   "outputs": [
    {
     "name": "stdout",
     "output_type": "stream",
     "text": [
      "1.5849625007211563 + 1.4865195378735334i\n"
     ]
    }
   ],
   "source": [
    "print(complex_str(log(c,2)))"
   ]
  },
  {
   "cell_type": "markdown",
   "metadata": {
    "deletable": true,
    "editable": true
   },
   "source": [
    "### 1.4. Finding the pattern\n",
    "\n",
    "So, what have we done so far?\n",
    "\n",
    "1) Decided a data format for the complex number, saw that the dictionary is quite convenient\n",
    "\n",
    "2) Defined a function to quickly create the dictionary:\n",
    "```python\n",
    "def complex_number(real, imaginary):\n",
    "```\n",
    "\n",
    "3) Defined some function like `phase` and `log` to do stuff on the complex number\n",
    "\n",
    "```python\n",
    "def phase(cn):\n",
    "def log(cn, base):\n",
    "```\n",
    "\n",
    "4) Defined a function `complex_str` to express the complex number as a readable string: \n",
    "\n",
    "```python\n",
    "def complex_str(cn):\n",
    "```\n",
    "\n",
    "Notice that: \n",
    "* all functions above take a `cn` complex number dictionary as first parameter\n",
    "* the functions `phase` and `log` are quite peculiar to complex number, and to know what they do you need to have deep knowledge of what a complex number is. \n",
    "* the function `complex_str` is more intuitive, because it covers the common need of giving a nice string representation to the data format we just defined. Also, we used the word `str` as part of the name to give a hint to the reader that probably the function behaves in a way similar to the Python function `str()`.\n",
    "\n",
    "\n",
    "When we encounter a new datatype in our programs, we often follow the procedure of thinking listed above. Such procedure is so common that software engineering people though convenient to provide a specific programming paradigm to represent it, called _Object Oriented_ programming. We are now going to rewrite the complex number example using such paradigm. \n"
   ]
  },
  {
   "cell_type": "markdown",
   "metadata": {
    "deletable": true,
    "editable": true
   },
   "source": [
    "### 1.5. Object Oriented programming\n",
    "\n",
    "In object oriented programming, we usually \n",
    "\n",
    "1. Introduce new datatypes by declaring a _class_, named for example `ComplexNumber`\n",
    "1. Are given a dictionary and define how data is stored in the dictionary (i.e. in fields `real` and `imaginary`)\n",
    "2. Define a way to _construct_ specific _instances_ , like `3 + 2i`, `5 + 6i` (instances are also called _objects_)\n",
    "3. Define some _methods_ to operate on the _instances_ (like `phase`)\n",
    "4. Define some special _methods_ to customize how Python treats _instances_ (for example for displaying them as strings when printing)\n",
    "\n",
    "Let's now create our first _class_."
   ]
  },
  {
   "cell_type": "markdown",
   "metadata": {
    "deletable": true,
    "editable": true
   },
   "source": [
    "## 2. ComplexNumber class"
   ]
  },
  {
   "cell_type": "markdown",
   "metadata": {
    "deletable": true,
    "editable": true
   },
   "source": [
    "### 2.1. Class declaration\n",
    "\n",
    "A minimal class declaration will at least declare the class name and the `__init__` method:\n"
   ]
  },
  {
   "cell_type": "code",
   "execution_count": 18,
   "metadata": {
    "collapsed": false,
    "deletable": true,
    "editable": true
   },
   "outputs": [],
   "source": [
    "class ComplexNumber:\n",
    "\n",
    "    def __init__(self, real, imaginary):\n",
    "        self.real = real\n",
    "        self.imaginary = imaginary       "
   ]
  },
  {
   "cell_type": "markdown",
   "metadata": {
    "deletable": true,
    "editable": true
   },
   "source": [
    "Here we declare to Python that we are starting defining a template for a new _class_ called `ComplexNumber`.\n",
    "This template will hold a collection of functions (called methods) that manipulate _instances_ of complex numbers \n",
    "(instances are `1.0 + 2.0i`, `3.0 + 4.0i`, ...).\n"
   ]
  },
  {
   "cell_type": "markdown",
   "metadata": {
    "collapsed": false,
    "deletable": true,
    "editable": true
   },
   "source": [
    "<div class=\"alert alert-info\">\n",
    "\n",
    "**IMPORTANT**: Although classes can have any name (i.e. <code>complex_number</code>, <code>complexNumber</code>, ...),\n",
    "by convention you <i>SHOULD</i> use a camel cased name like <code>ComplexNumber</code>, with capital letters as initials and no underscores.\n",
    "\n",
    "</div>"
   ]
  },
  {
   "cell_type": "markdown",
   "metadata": {
    "deletable": true,
    "editable": true
   },
   "source": [
    "\n",
    "### 2.2. Constructor `__init__`\n",
    "\n",
    "With the dictonary model, to create complex numbers remember we defined that small utility function `complex_number`, where inside we were creating the dictionary:\n",
    "\n",
    "```python\n",
    "def complex_number(real, imaginary):\n",
    "    d = {}\n",
    "    d['real'] = real\n",
    "    d['imaginary'] = imaginary\n",
    "    return d\n",
    "```\n",
    "\n",
    "With classes, to create objects we have instead to define a so-called _constructor method_ called `__init__`:\n"
   ]
  },
  {
   "cell_type": "code",
   "execution_count": 19,
   "metadata": {
    "collapsed": true,
    "deletable": true,
    "editable": true
   },
   "outputs": [],
   "source": [
    "class ComplexNumber:\n",
    "\n",
    "    def __init__(self, real, imaginary):\n",
    "        self.real = real\n",
    "        self.imaginary = imaginary"
   ]
  },
  {
   "cell_type": "markdown",
   "metadata": {
    "deletable": true,
    "editable": true
   },
   "source": [
    "`__init__` is a very special method, that has the job to initialize an _instance_ of a complex number. It has three important features:\n",
    "\n",
    "a) it is defined like a function, inside the `ComplexNumber` declaration (as usual, indentation matters!)\n",
    "\n",
    "b) it always takes as first parameter `self`, which is an instance of a special kind of dictionary that will hold the fields of the complex number. Inside the previous `complex_number` function, we were creating a dictionary `d`. In `__init__` method, the dictionary instead is automatically created by Python and given to us in the form of parameter `self`\n",
    "\n",
    "c) `__init__` does not return anything: this is different from the previous `complex_number` function where instead we were returning the dictionary `d`.\n",
    "\n",
    "Later we will explain better these properties. For now, let's just concentrate on the names of things we see in the declaration.\n"
   ]
  },
  {
   "cell_type": "markdown",
   "metadata": {
    "collapsed": false,
    "deletable": true,
    "editable": true
   },
   "source": [
    "<div class=\"alert alert-warning\">\n",
    "\n",
    "**WARNING**: There can be only one constructor method per class, and MUST be named `__init__` \n",
    "</div>\n",
    "\n",
    "<div class=\"alert alert-warning\">\n",
    "\n",
    "**WARNING**: <code>__init__</code> MUST take at least one parameter, by convention it is usually named `self`\n",
    "</div>\n",
    "\n",
    "<div class=\"alert alert-info\">\n",
    "\n",
    "**IMPORTANT**: `self` is just a name we give to the first parameter. It could be any name our fantasy suggest and the program would behave exactly the same! <br/><br/>\n",
    "    \n",
    "If the editor you are using will evidence it in some special color, it is because it is aware of the convention\n",
    "but _not_ because `self` is some special Python keyword. \n",
    "    \n",
    "</div>\n",
    "\n",
    "<div class=\"alert alert-info\">\n",
    "\n",
    "**IMPORTANT**: In general, any of the `__init__` parameters can have completely arbitrary names, so for example the following code snippet \n",
    "would work exactly the same as the initial definition:\n",
    "</div>\n"
   ]
  },
  {
   "cell_type": "code",
   "execution_count": 20,
   "metadata": {
    "collapsed": true,
    "deletable": true,
    "editable": true
   },
   "outputs": [],
   "source": [
    "class ComplexNumber:\n",
    "\n",
    "    def __init__(donald_duck, mickey_mouse, goofy):\n",
    "        donald_duck.real = mickey_mouse\n",
    "        donald_duck.imaginary = goofy"
   ]
  },
  {
   "cell_type": "markdown",
   "metadata": {
    "deletable": true,
    "editable": true
   },
   "source": [
    "Once the `__init__` method is defined, we can create a specific `ComplexNumber` _instance_ with a call like this:"
   ]
  },
  {
   "cell_type": "code",
   "execution_count": 21,
   "metadata": {
    "collapsed": false,
    "deletable": true,
    "editable": true
   },
   "outputs": [
    {
     "name": "stdout",
     "output_type": "stream",
     "text": [
      "<__main__.ComplexNumber object at 0x7f87518eeb38>\n"
     ]
    }
   ],
   "source": [
    "c = ComplexNumber(3.0,5.0)\n",
    "print(c)"
   ]
  },
  {
   "cell_type": "markdown",
   "metadata": {
    "deletable": true,
    "editable": true
   },
   "source": [
    "What happend here? \n",
    "\n",
    "**init 2.2.1)** We told Python we want to create a new particular _instance_ of the template defined by _class_ `ComplexNumber`. As parameters for the instance we indicated `3.0` and `5.0`.\n"
   ]
  },
  {
   "cell_type": "markdown",
   "metadata": {
    "collapsed": false,
    "deletable": true,
    "editable": true
   },
   "source": [
    "<div class=\"alert alert-warning\">\n",
    "\n",
    "**WARNING**: to create the instance, we used the name of the class `ComplexNumber` following it\n",
    "    by an open round parenthesis and parameters like a function call:\n",
    "        `c=ComplexNumber(3.0,5.0)`\n",
    "        <br/> <br/>Writing just: \n",
    "    `c = ComplexNumber` would <i>NOT</i> instantiate anything and we would end up messing with \n",
    "    the _template `ComplexNumber`_, which is a collection of functions for complex numbers.\n",
    "</div>"
   ]
  },
  {
   "cell_type": "markdown",
   "metadata": {
    "deletable": true,
    "editable": true
   },
   "source": [
    "**init 2.2.2)** Python created a new special dictionary for the instance \n",
    "\n",
    "**init 2.2.3)** Python passed the special dictionary as first parameter of the method `__init__`, so it will be bound to parameter `self`. As second and third arguments passed _3.0_ and _5.0_, which will be bound respectively to parameters `real` and `imaginary`\n",
    "\n"
   ]
  },
  {
   "cell_type": "markdown",
   "metadata": {
    "collapsed": false,
    "deletable": true,
    "editable": true
   },
   "source": [
    "<div class=\"alert alert-warning\">\n",
    "\n",
    "**WARNING**: When instantiating an object with a  call like <code>c=ComplexNumber(3.0,5.0)</code>  you  <i>don't</i>\n",
    "need to pass a dictionary as first parameter! Python will implicitly create it and pass it as first parameter to `__init__`\n",
    "</div>"
   ]
  },
  {
   "cell_type": "markdown",
   "metadata": {
    "collapsed": false,
    "deletable": true,
    "editable": true
   },
   "source": [
    "**init 2.2.4)** In the `__init__` method,  the instructions\n",
    "\n",
    "```python\n",
    "self.real = real\n",
    "self.imaginary = imaginary\n",
    "```\n",
    "first create a key in the dictionary called `real` associating to the key the value of the parameter `real` (in the call is _3.0_). Then  the value _5.0_ is bound to the key `imaginary`.\n",
    "\n"
   ]
  },
  {
   "cell_type": "markdown",
   "metadata": {
    "collapsed": false,
    "deletable": true,
    "editable": true
   },
   "source": [
    "<div class=\"alert alert-info\">\n",
    "**IMPORTANT:**  we said Python provides <code>__init__</code> with a special kind of dictionary as first parameter.\n",
    "    One of the reason it is special is that you can access keys using the dot like <code>self.my_key</code>.\n",
    "    With ordinary dictionaries you would have to write the brackets like <code>self[\"my_key\"]</code>\n",
    "</div>\n",
    "\n",
    "<div class=\"alert alert-info\">\n",
    "**IMPORTANT:**  like with dictionaries, we can arbitrarily choose the name of the keys, and which\n",
    "    values to associate to them.     \n",
    "</div>\n",
    "\n",
    "<div class=\"alert alert-info\">\n",
    "\n",
    "**IMPORTANT:**  In the following, we will often refer to keys of the <code>self</code> dictionary with \n",
    "    the terms _field_, and/or _attribute_.\n",
    "</div>\n",
    "\n"
   ]
  },
  {
   "cell_type": "markdown",
   "metadata": {
    "deletable": true,
    "editable": true
   },
   "source": [
    "Now one important word of wisdom: "
   ]
  },
  {
   "cell_type": "markdown",
   "metadata": {
    "collapsed": false,
    "deletable": true,
    "editable": true
   },
   "source": [
    "<div class=\"alert alert-info\">\n",
    "\n",
    "**!!!!!!  COMMANDMENT 5:  YOU SHALL NEVER EVER REASSIGN `self` !!!!!!!**    \n",
    "</div>"
   ]
  },
  {
   "cell_type": "markdown",
   "metadata": {
    "deletable": true,
    "editable": true
   },
   "source": [
    "Since self is a kind of dictionary, you might be tempted to do like this:"
   ]
  },
  {
   "cell_type": "code",
   "execution_count": 22,
   "metadata": {
    "collapsed": false,
    "deletable": true,
    "editable": true
   },
   "outputs": [],
   "source": [
    "class EvilComplexNumber:\n",
    "    def __init__(self, real, imaginary):        \n",
    "        self = {'real':real, 'imaginary':imaginary}  \n"
   ]
  },
  {
   "cell_type": "markdown",
   "metadata": {
    "deletable": true,
    "editable": true
   },
   "source": [
    "but to the outside world this will bring no effect. For example, let's say somebody from outside makes a call like this:"
   ]
  },
  {
   "cell_type": "code",
   "execution_count": 23,
   "metadata": {
    "collapsed": false,
    "deletable": true,
    "editable": true
   },
   "outputs": [],
   "source": [
    "ce = EvilComplexNumber(3.0, 5.0)\n"
   ]
  },
  {
   "cell_type": "markdown",
   "metadata": {
    "deletable": true,
    "editable": true
   },
   "source": [
    "At the first attempt of accessing any field, you would get an error because after the initalization `c` will point to the yet untouched `self` created by Python, and not to your dictionary (which at this point will be simply lost):"
   ]
  },
  {
   "cell_type": "markdown",
   "metadata": {
    "deletable": true,
    "editable": true
   },
   "source": [
    "```python\n",
    "print(ce.real)\n",
    "```\n",
    "AttributeError: EvilComplexNumber instance has no attribute 'real'         \n",
    "        \n"
   ]
  },
  {
   "cell_type": "markdown",
   "metadata": {
    "deletable": true,
    "editable": true
   },
   "source": [
    "\n",
    "In general, you _DO NOT_ reassign `self` to anything. Here are other example _DON'Ts_: \n",
    "\n",
    "```python\n",
    "self = ['666']  # self is only supposed to be a sort of dictionary which is passed by Python\n",
    "self = 6        # self is only supposed to be a sort of dictionary which is passed by Python</p>\n",
    "```"
   ]
  },
  {
   "cell_type": "markdown",
   "metadata": {
    "deletable": true,
    "editable": true
   },
   "source": [
    "**init 2.2.5)** Python automatically returns from `__init__` the special dictionary `self`\n"
   ]
  },
  {
   "cell_type": "markdown",
   "metadata": {
    "collapsed": false,
    "deletable": true,
    "editable": true
   },
   "source": [
    "<div class=\"alert alert-warning\">\n",
    "\n",
    "**WARNING**: `__init__` must _*NOT*_ have a `return` statement !\n",
    "Python will implicitly return `self` !\n",
    "</div>"
   ]
  },
  {
   "cell_type": "markdown",
   "metadata": {
    "deletable": true,
    "editable": true
   },
   "source": [
    "**init 2.2.6)** The result of the call (so the special dictionary) is bound to external variable 'c`:\n",
    "\n",
    "```python \n",
    "c = ComplexNumber(3.0, 5.0)\n",
    "```\n",
    "\n",
    "**init 2.2.7)** You can then start using `c` as any variable"
   ]
  },
  {
   "cell_type": "code",
   "execution_count": 24,
   "metadata": {
    "collapsed": false,
    "deletable": true,
    "editable": true
   },
   "outputs": [
    {
     "name": "stdout",
     "output_type": "stream",
     "text": [
      "<__main__.ComplexNumber object at 0x7f87518eeb38>\n"
     ]
    }
   ],
   "source": [
    "print(c)"
   ]
  },
  {
   "cell_type": "markdown",
   "metadata": {
    "deletable": true,
    "editable": true
   },
   "source": [
    "From the output, you see we have indeed an _instance_ of the _class_ `ComplexNumber`. To see the difference between _instance_ and _class_, you can try printing the _class_ instead:\n"
   ]
  },
  {
   "cell_type": "code",
   "execution_count": 25,
   "metadata": {
    "collapsed": false,
    "deletable": true,
    "editable": true
   },
   "outputs": [
    {
     "name": "stdout",
     "output_type": "stream",
     "text": [
      "<class '__main__.ComplexNumber'>\n"
     ]
    }
   ],
   "source": [
    "print(ComplexNumber)"
   ]
  },
  {
   "cell_type": "markdown",
   "metadata": {
    "collapsed": false,
    "deletable": true,
    "editable": true
   },
   "source": [
    "<div class=\"alert alert-info\">\n",
    "\n",
    "**IMPORTANT**: You can create an infinite number of different _instances_ (i.e.  \n",
    "`ComplexNumber(1.0, 1.0)`, `ComplexNumber(2.0, 2.0)`, `ComplexNumber(3.0, 3.0)`, ... ), but you will have only one _class_ definition for them (`ComplexNumber`).\n",
    "</div>"
   ]
  },
  {
   "cell_type": "markdown",
   "metadata": {
    "deletable": true,
    "editable": true
   },
   "source": [
    "We can now access the fields of the special dictionary by using the dot notation as we were doing with the 'self`:"
   ]
  },
  {
   "cell_type": "code",
   "execution_count": 26,
   "metadata": {
    "collapsed": false,
    "deletable": true,
    "editable": true
   },
   "outputs": [
    {
     "name": "stdout",
     "output_type": "stream",
     "text": [
      "3.0\n"
     ]
    }
   ],
   "source": [
    "print(c.real)"
   ]
  },
  {
   "cell_type": "code",
   "execution_count": 27,
   "metadata": {
    "collapsed": false,
    "deletable": true,
    "editable": true
   },
   "outputs": [
    {
     "name": "stdout",
     "output_type": "stream",
     "text": [
      "5.0\n"
     ]
    }
   ],
   "source": [
    "print(c.imaginary)"
   ]
  },
  {
   "cell_type": "markdown",
   "metadata": {
    "deletable": true,
    "editable": true
   },
   "source": [
    "If we want, we can also change them:"
   ]
  },
  {
   "cell_type": "code",
   "execution_count": 28,
   "metadata": {
    "collapsed": false,
    "deletable": true,
    "editable": true
   },
   "outputs": [
    {
     "name": "stdout",
     "output_type": "stream",
     "text": [
      "6.0\n"
     ]
    }
   ],
   "source": [
    "c.real = 6.0\n",
    "print(c.real)"
   ]
  },
  {
   "cell_type": "markdown",
   "metadata": {
    "deletable": true,
    "editable": true
   },
   "source": [
    "### 2.3. Defining methods\n",
    "\n",
    "Let's make our class more interesting by adding the method `phase(self)` to operate on the complex number:"
   ]
  },
  {
   "cell_type": "code",
   "execution_count": 29,
   "metadata": {
    "collapsed": true,
    "deletable": true,
    "editable": true
   },
   "outputs": [],
   "source": [
    "import unittest\n",
    "import math\n",
    "\n",
    "class ComplexNumber:\n",
    "\n",
    "    def __init__(self, real, imaginary):\n",
    "        self.real = real\n",
    "        self.imaginary = imaginary\n",
    "\n",
    "    def phase(self):\n",
    "        \"\"\" Returns a float which is the phase (that is, the vector angle) of the complex number \n",
    "        \n",
    "            This method is something we introduce by ourselves, according to the definition:\n",
    "            https://en.wikipedia.org/wiki/Complex_number#Absolute_value_and_argument\n",
    "        \"\"\"\n",
    "        return math.atan2(self.imaginary, self.real)  "
   ]
  },
  {
   "cell_type": "markdown",
   "metadata": {
    "collapsed": false,
    "deletable": true,
    "editable": true
   },
   "source": [
    "The method takes as first parameter `self` which again is a special dictionary. We expect the dictionary to have already been initialized with some values for `real` and `imaginary` fields. We can access them with the dot notation as we did before:\n",
    "\n",
    "```python\n",
    "   return math.atan2(self.imaginary, self.real) \n",
    "```\n",
    "\n",
    "How can we call the method on instances of complex numbers? We can access the method name from an instance using the dot notation as we did with other keys:"
   ]
  },
  {
   "cell_type": "code",
   "execution_count": 30,
   "metadata": {
    "collapsed": false,
    "deletable": true,
    "editable": true
   },
   "outputs": [
    {
     "name": "stdout",
     "output_type": "stream",
     "text": [
      "1.0303768265243125\n"
     ]
    }
   ],
   "source": [
    "c = ComplexNumber(3.0,5.0)\n",
    "print(c.phase())"
   ]
  },
  {
   "cell_type": "markdown",
   "metadata": {
    "deletable": true,
    "editable": true
   },
   "source": [
    "What happens here? \n",
    "\n",
    "By writing `c.phase()` , we call the method `phase(self)` which we just defined. The method expects as first parameter `self` a class instance, but in the call `c.phase()` apparently we don't provide any parameter. Here some magic is going on, and Python implicitly is passing as first parameter the special dictionary bound to `c`. Then it executes the method and returns the desired float."
   ]
  },
  {
   "cell_type": "markdown",
   "metadata": {
    "collapsed": false,
    "deletable": true,
    "editable": true
   },
   "source": [
    "<div class=\"alert alert-warning\">\n",
    "\n",
    "**WARNING:** Put round parenthesis in method calls!\n",
    "\n",
    "When _calling_ a method, you MUST put the round parenthesis after the method name like in `c.phase_()_`! \n",
    "If you just write `c.phase` without parenthesis you will get back an address to the physical location of the method code: \n",
    "\n",
    "```\n",
    ">>> c.phase\n",
    "<bound method ComplexNumber.phase of <__main__.ComplexNumber instance at 0xb465a4cc>>\n",
    "```\n",
    "</div>"
   ]
  },
  {
   "cell_type": "markdown",
   "metadata": {
    "deletable": true,
    "editable": true
   },
   "source": [
    "We can also define methods that take more than one parameter, and also that create and return `ComplexNumber` instances, like for example the method `log(self, base)`:"
   ]
  },
  {
   "cell_type": "code",
   "execution_count": 31,
   "metadata": {
    "collapsed": true,
    "deletable": true,
    "editable": true
   },
   "outputs": [],
   "source": [
    "import math\n",
    "\n",
    "class ComplexNumber:\n",
    "\n",
    "    def __init__(self, real, imaginary):\n",
    "        self.real = real\n",
    "        self.imaginary = imaginary\n",
    "\n",
    "    def phase(self):\n",
    "        \"\"\" Returns a float which is the phase (that is, the vector angle) of the complex number \n",
    "        \n",
    "            This method is something we introduce by ourselves, according to the definition:\n",
    "            https://en.wikipedia.org/wiki/Complex_number#Absolute_value_and_argument\n",
    "        \"\"\"\n",
    "        return math.atan2(self.imaginary, self.real)    \n",
    "    \n",
    "    def log(self, base):\n",
    "        \"\"\" Returns another ComplexNumber which is the logarithm of this complex number \n",
    "            \n",
    "            This method is something we introduce by ourselves, according to the definition:\n",
    "            (accomodated for generic base b)\n",
    "            https://en.wikipedia.org/wiki/Complex_number#Natural_logarithm\n",
    "        \"\"\"      \n",
    "        return ComplexNumber(math.log(self.real) / math.log(base), self.phase() / math.log(base)) \n",
    " "
   ]
  },
  {
   "cell_type": "markdown",
   "metadata": {
    "collapsed": false,
    "deletable": true,
    "editable": true
   },
   "source": [
    "<div class=\"alert alert-warning\">\n",
    "**WARNING:** _ALL_ METHODS MUST HAVE AT LEAST ONE PARAMETER, WHICH BY CONVENTION IS NAMED <code>self</code> !\n",
    "</div>"
   ]
  },
  {
   "cell_type": "markdown",
   "metadata": {
    "deletable": true,
    "editable": true
   },
   "source": [
    "To call `log`, you can do as with `phase` but this time you will need also to pass one parameter for the `base` parameter, in this case we use the exponential `math.e`:"
   ]
  },
  {
   "cell_type": "code",
   "execution_count": 32,
   "metadata": {
    "collapsed": false,
    "deletable": true,
    "editable": true
   },
   "outputs": [],
   "source": [
    "c = ComplexNumber(3.0, 5.0)\n",
    "logarithm = c.log(math.e)"
   ]
  },
  {
   "cell_type": "markdown",
   "metadata": {
    "collapsed": false,
    "deletable": true,
    "editable": true
   },
   "source": [
    "<div class=\"alert alert-warning\">\n",
    "\n",
    "**WARNING**: As before for `phase`, notice we didn't pass any dictionary as first parameter!  Python will implicitly pass as first argument the instance `c`  as `self`, and `math.e` as `base`\n",
    "</div>"
   ]
  },
  {
   "cell_type": "code",
   "execution_count": 33,
   "metadata": {
    "collapsed": false,
    "deletable": true,
    "editable": true
   },
   "outputs": [
    {
     "name": "stdout",
     "output_type": "stream",
     "text": [
      "<__main__.ComplexNumber object at 0x7f87518ee4e0>\n"
     ]
    }
   ],
   "source": [
    "print(logarithm)"
   ]
  },
  {
   "cell_type": "markdown",
   "metadata": {
    "collapsed": true,
    "deletable": true,
    "editable": true
   },
   "source": [
    "To see if the method worked and we got back  we got back a different complex number, we can print the single \n",
    "fields:"
   ]
  },
  {
   "cell_type": "code",
   "execution_count": 34,
   "metadata": {
    "collapsed": false,
    "deletable": true,
    "editable": true
   },
   "outputs": [
    {
     "name": "stdout",
     "output_type": "stream",
     "text": [
      "1.0986122886681098\n"
     ]
    }
   ],
   "source": [
    "print(logarithm.real)"
   ]
  },
  {
   "cell_type": "code",
   "execution_count": 35,
   "metadata": {
    "collapsed": false,
    "deletable": true,
    "editable": true
   },
   "outputs": [
    {
     "name": "stdout",
     "output_type": "stream",
     "text": [
      "1.0303768265243125\n"
     ]
    }
   ],
   "source": [
    "print(logarithm.imaginary)"
   ]
  },
  {
   "cell_type": "markdown",
   "metadata": {
    "deletable": true,
    "editable": true
   },
   "source": [
    "### 2.4. A better print with `__str__`"
   ]
  },
  {
   "cell_type": "markdown",
   "metadata": {
    "collapsed": false,
    "deletable": true,
    "editable": true
   },
   "source": [
    "As we said, printing is not so informative: "
   ]
  },
  {
   "cell_type": "code",
   "execution_count": 36,
   "metadata": {
    "collapsed": false,
    "deletable": true,
    "editable": true
   },
   "outputs": [
    {
     "name": "stdout",
     "output_type": "stream",
     "text": [
      "<__main__.ComplexNumber object at 0x7f87518ee518>\n"
     ]
    }
   ],
   "source": [
    "print(ComplexNumber(3.0, 5.0))"
   ]
  },
  {
   "cell_type": "markdown",
   "metadata": {
    "deletable": true,
    "editable": true
   },
   "source": [
    "It would be nice to instruct Python to express the number like _\"3.0 + 5.0i\"_ whenever we want to see\n",
    "the `ComplexNumber` represented as a string. How can we do it? Luckily for us, defining the `__str__(self) method`\n",
    "will do the magic (see bottom of class definition):"
   ]
  },
  {
   "cell_type": "code",
   "execution_count": 37,
   "metadata": {
    "collapsed": true,
    "deletable": true,
    "editable": true
   },
   "outputs": [],
   "source": [
    "import math\n",
    "\n",
    "class ComplexNumber:\n",
    "\n",
    "    def __init__(self, real, imaginary):\n",
    "        self.real = real\n",
    "        self.imaginary = imaginary\n",
    "\n",
    "    def phase(self):\n",
    "        \"\"\" Returns a float which is the phase (that is, the vector angle) of the complex number \n",
    "        \n",
    "            This method is something we introduce by ourselves, according to the definition:\n",
    "            https://en.wikipedia.org/wiki/Complex_number#Absolute_value_and_argument\n",
    "        \"\"\"\n",
    "        return math.atan2(self.imaginary, self.real)    \n",
    "    \n",
    "    def log(self, base):\n",
    "        \"\"\" Returns another ComplexNumber which is the logarithm of this complex number \n",
    "            \n",
    "            This method is something we introduce by ourselves, according to the definition:\n",
    "            (accomodated for generic base b)\n",
    "            https://en.wikipedia.org/wiki/Complex_number#Natural_logarithm\n",
    "        \"\"\"      \n",
    "        return ComplexNumber(math.log(self.real) / math.log(base), self.phase() / math.log(base)) \n",
    "\n",
    "    def __str__(self):\n",
    "        return str(self.real) + \" + \" + str(self.imaginary) + \"i\"\n",
    " "
   ]
  },
  {
   "cell_type": "markdown",
   "metadata": {
    "collapsed": false,
    "deletable": true,
    "editable": true
   },
   "source": [
    "<div class=\"alert alert-info\">\n",
    "\n",
    "**IMPORTANT**: all methods starting and ending with a double underscore `__` have a special meaning in Python:\n",
    "        depending on their name, they override some default behaviour. In this case, with `__str__`\n",
    "        we are overriding how Python represents a `ComplexNumber` instance into a string.\n",
    "</div>\n",
    "\n",
    "<div class=\"alert alert-warning\">\n",
    "\n",
    "**WARNING:** Since we are overriding Python default behaviour, it is very important that we follow the specs of the method we are overriding _to the letter_. In our case, [the specs for __str__](https://docs.python.org/2/reference/datamodel.html#object.__str__) obviously state you MUST return a string.\n",
    "</div>"
   ]
  },
  {
   "cell_type": "code",
   "execution_count": 38,
   "metadata": {
    "collapsed": true,
    "deletable": true,
    "editable": true
   },
   "outputs": [],
   "source": [
    "c = ComplexNumber(3.0, 5.0)"
   ]
  },
  {
   "cell_type": "markdown",
   "metadata": {
    "deletable": true,
    "editable": true
   },
   "source": [
    "We can also pretty print the whole complex number. Internally, `print` function will look if the class `ComplexNumber` has defined a method named `__str__`. If so, it will pass to the method the instance `c` as the first argument, which in our methods will end up in the  `self` parameter:"
   ]
  },
  {
   "cell_type": "code",
   "execution_count": 39,
   "metadata": {
    "collapsed": false,
    "deletable": true,
    "editable": true
   },
   "outputs": [
    {
     "name": "stdout",
     "output_type": "stream",
     "text": [
      "3.0 + 5.0i\n"
     ]
    }
   ],
   "source": [
    "print(c)"
   ]
  },
  {
   "cell_type": "code",
   "execution_count": 40,
   "metadata": {
    "collapsed": false,
    "deletable": true,
    "editable": true
   },
   "outputs": [
    {
     "name": "stdout",
     "output_type": "stream",
     "text": [
      "1.5849625007211563 + 1.4865195378735334i\n"
     ]
    }
   ],
   "source": [
    "print(c.log(2))"
   ]
  },
  {
   "cell_type": "markdown",
   "metadata": {
    "collapsed": false,
    "deletable": true,
    "editable": true
   },
   "source": [
    "### 2.5. ComplexNumber code skeleton\n",
    "\n",
    "We are now ready to write methods on our own. Create a new file and copy paste the following skeleton, including the tests, then proceed doing the exercises.\n"
   ]
  },
  {
   "cell_type": "code",
   "execution_count": 41,
   "metadata": {
    "collapsed": true,
    "deletable": true,
    "editable": true
   },
   "outputs": [],
   "source": [
    "import unittest\n",
    "import math\n",
    "\n",
    "class ComplexNumber:\n",
    "\n",
    "    def __init__(self, real, imaginary):\n",
    "        self.real = real\n",
    "        self.imaginary = imaginary\n",
    "\n",
    "    def phase(self):\n",
    "        \"\"\" Returns a float which is the phase (that is, the vector angle) of the complex number \n",
    "        \n",
    "            This method is something we introduce by ourselves, according to the definition:\n",
    "            https://en.wikipedia.org/wiki/Complex_number#Absolute_value_and_argument\n",
    "        \"\"\"\n",
    "        return math.atan2(self.imaginary, self.real)    \n",
    "    \n",
    "    def log(self, base):\n",
    "        \"\"\" Returns another ComplexNumber which is the logarithm of this complex number \n",
    "            \n",
    "            This method is something we introduce by ourselves, according to the definition:\n",
    "            (accomodated for generic base b)\n",
    "            https://en.wikipedia.org/wiki/Complex_number#Natural_logarithm\n",
    "        \"\"\"      \n",
    "        return ComplexNumber(math.log(self.real) / math.log(base), self.phase() / math.log(base)) \n",
    "\n",
    "    def __str__(self):\n",
    "        return str(self.real) + \" + \" + str(self.imaginary) + \"i\"\n",
    "    \n",
    "\n",
    "class ComplexNumberTest(unittest.TestCase):\n",
    "\n",
    "    \"\"\" Test cases for ComplexNumber\n",
    "\n",
    "         Note this is a *completely* separated class from ComplexNumber and\n",
    "         we declare it here just for testing purposes!\n",
    "         The 'self' you see here have nothing to do with the selfs from the\n",
    "         ComplexNumber methods!        \n",
    "    \"\"\"\n",
    "        \n",
    "    def test_01_init(self):\n",
    "        self.assertEqual(ComplexNumber(1,2).real, 1)        \n",
    "        self.assertEqual(ComplexNumber(1,2).imaginary, 2)\n",
    "        \n",
    "    def test_02_phase(self):\n",
    "        \"\"\" \n",
    "            NOTE: we can't use assertEqual, as the result of phase() is a \n",
    "            float number which may have floating point rounding errors. So it's\n",
    "            necessary to use assertAlmostEqual\n",
    "            As an option with the delta you can declare the precision you require.\n",
    "            For more info see Python docs: \n",
    "            https://docs.python.org/2/library/unittest.html#unittest.TestCase.assertAlmostEqual\n",
    "            \n",
    "            NOTE: assertEqual might still work on your machine but just DO NOT use it \n",
    "            for float numbers!!!\n",
    "        \"\"\"       \n",
    "        self.assertAlmostEqual(ComplexNumber(0.0,1.0).phase(), math.pi / 2, delta=0.001)\n",
    "        \n",
    "    def test_03_str(self):        \n",
    "        self.assertEqual(str(ComplexNumber(1,2)), \"1 + 2i\")        \n",
    "        #self.assertEqual(str(ComplexNumber(1,0)), \"1\")\n",
    "        #self.assertEqual(str(ComplexNumber(1.0,0)), \"1.0\")\n",
    "        #self.assertEqual(str(ComplexNumber(0,1)), \"i\")\n",
    "        #self.assertEqual(str(ComplexNumber(0,0)), \"0\") \n",
    "\n",
    "        \n",
    "    def test_04_log(self):\n",
    "        c = ComplexNumber(1.0,1.0)\n",
    "        l = c.log(math.e)\n",
    "        self.assertAlmostEqual(l.real, 0.0, delta=0.001)\n",
    "        self.assertAlmostEqual(l.imaginary, c.phase(), delta=0.001)\n",
    "\n"
   ]
  },
  {
   "cell_type": "markdown",
   "metadata": {
    "deletable": true,
    "editable": true
   },
   "source": [
    "### 2.6. Complex numbers magnitude\n",
    "\n",
    "![](img/complex-numbers-magnitude-1.png)\n",
    "![](img/complex-numbers-magnitude-2.png)"
   ]
  },
  {
   "cell_type": "markdown",
   "metadata": {
    "deletable": true,
    "editable": true
   },
   "source": [
    "Implement the `magnitude` method, using this signature:\n",
    "    \n",
    "```python\n",
    "    def magnitude(self):\n",
    "        \"\"\" Returns a float which is the magnitude (that is, the absolute value) of the complex number \n",
    "\n",
    "            This method is something we introduce by ourselves, according to the definition:\n",
    "            https://en.wikipedia.org/wiki/Complex_number#Absolute_value_and_argument\n",
    "        \"\"\"\n",
    "        raise Exception(\"TODO implement me!\")\n",
    "```    \n",
    "\n",
    "To test it, add this test case to `ComplexNumberTest` class (notice the `almost` in `assertAlmostEquals` !!!):\n",
    "\n",
    "```python\n",
    "    def test_05_magnitude(self):\n",
    "        self.assertAlmostEqual(ComplexNumber(3.0,4.0).magnitude(),5, delta=0.001)                \n",
    "```\n"
   ]
  },
  {
   "cell_type": "markdown",
   "metadata": {
    "deletable": true,
    "editable": true
   },
   "source": [
    "### 2.7. Complex numbers equality\n",
    "\n",
    "Here we will try to give you a glimpse of some aspects related to Python equality, and trying to respect interfaces when overriding methods. Equality can be a nasty subject, here we will treat it in a simplified form.\n",
    "\n",
    "\n",
    "![](img/complex-numbers-equality.png)\n",
    "\n",
    "\n",
    "* Implement equality for `ComplexNumber` more or less as it was done for `Fraction`\n",
    "\n",
    "    Use this method signature:\n",
    "    \n",
    "    ```python\n",
    "        def __eq__(self, other):\n",
    "    ```\n",
    "    \n",
    "and use this simple test case to check for equality:\n",
    "\n",
    "```python\n",
    "    def test_06_integer_equality(self):\n",
    "        \"\"\"\n",
    "            Note all other tests depend on this test !\n",
    "            \n",
    "            We want also to test the constructor, so in c we set stuff by hand    \n",
    "        \"\"\"\n",
    "        c = ComplexNumber(0,0)\n",
    "        c.real = 1       \n",
    "        c.imaginary = 2        \n",
    "        self.assertEquals(c, ComplexNumber(1,2))     \n",
    "```  \n",
    "\n",
    "* Beware  'equality' is tricky in Python for float numbers! Rule of thumb: when overriding `__eq__`, use 'dumb' equality, two things are the same only if their parts are literally equal    \n",
    "* If instead you need to determine if two objects are similar, define other 'closeness' functions.\n",
    "* (Non mandatory read) if you are interested in the gory details of equality, see\n",
    "    * [How to Override comparison operators in Python](http://jcalderone.livejournal.com/32837.html)\n",
    "    * [Messing with hashing](http://www.asmeurer.com/blog/posts/what-happens-when-you-mess-with-hashing-in-python/)\n",
    "\n",
    "    "
   ]
  },
  {
   "cell_type": "markdown",
   "metadata": {
    "deletable": true,
    "editable": true
   },
   "source": [
    "### 2.8. Complex numbers isclose\n",
    "\n",
    "Complex numbers can be represented as vectors, so intuitively we can determine if a complex number is close to another by checking that the distance between its vector tip and the the other tip is less than a given delta. There are more precise ways to calculate it, but here we prefer keeping the example simple."
   ]
  },
  {
   "cell_type": "markdown",
   "metadata": {
    "deletable": true,
    "editable": true
   },
   "source": [
    "Given two complex numbers\n",
    "\n",
    "$$z_1 = a + bi$$\n",
    "\n",
    "and \n",
    "\n",
    "$$z_2 = c + di$$\n",
    "\n",
    "We can consider them as close if they satisfy this condition:\n",
    "$$\\sqrt{(a-c)^2 + (b-d)^2} < delta$$\n",
    "\n",
    "* Implement the method, adding it to `ComplexNumber` class:\n",
    "\n",
    "```python\n",
    "    def isclose(self, c, delta):\n",
    "        \"\"\" Returns True if the complex number is within a delta distance from complex number c.                                \n",
    "        \"\"\"\n",
    "        raise Exception(\"TODO Implement me!\")\n",
    "```\n",
    "\n",
    "and add this test case to `ComplexNumberTest` class:\n",
    "\n",
    "```python\n",
    "    def test_07_isclose(self):\n",
    "        \"\"\"  Notice we use `assertTrue` because we expect `isclose` to return a `bool` value, and \n",
    "             we also test a case where we expect `False`\n",
    "        \"\"\"\n",
    "        self.assertTrue(ComplexNumber(1.0,1.0).isclose(ComplexNumber(1.0,1.1), 0.2))        \n",
    "        self.assertFalse(ComplexNumber(1.0,1.0).isclose(ComplexNumber(10.0,10.0), 0.2))\n",
    "```\n",
    "\n",
    "\n"
   ]
  },
  {
   "cell_type": "markdown",
   "metadata": {
    "collapsed": false,
    "deletable": true,
    "editable": true
   },
   "source": [
    "<div class=\"alert alert-warning\">\n",
    "\n",
    "**REMEMBER**: Equality with `__eq__` and closeness functions like `isclose` \n",
    "are very different things. Equality should check if two objects have the same memory address or, alternatively, \n",
    "if they contain the same things, while closeness functions \n",
    "should check if two objects are similar. You should never use functions like `isclose` inside\n",
    "`__eq__` methods, unless you really know what you're doing.\n",
    "</div>"
   ]
  },
  {
   "cell_type": "markdown",
   "metadata": {
    "deletable": true,
    "editable": true
   },
   "source": [
    "### 2.9. Complex numbers addition\n",
    "\n",
    "![](img/complex-numbers-addition.png)\n",
    "\n",
    "* `a` and `c` correspond to `real`, `b` and `d` correspond to `imaginary`\n",
    "* implement addition for `ComplexNumber` more or less as it was done for `Fraction` in theory slides\n",
    "* write some tests as well!\n",
    "\n",
    "Use this definition:\n",
    "```python\n",
    "def __add__(self, other):\n",
    "    raise Exception(\"TODO implement me!\")\n",
    "```\n",
    "    \n",
    "And add this to the `ComplexNumberTest` class: \n",
    "\n",
    "```python \n",
    "    def test_08_add_zero(self):\n",
    "        self.assertEquals(ComplexNumber(1,2) + ComplexNumber(0,0), ComplexNumber(1,2));\n",
    "        \n",
    "    def test_09_add_numbers(self):        \n",
    "        self.assertEquals(ComplexNumber(1,2) + ComplexNumber(3,4), ComplexNumber(4,6));\n",
    "```        "
   ]
  },
  {
   "cell_type": "markdown",
   "metadata": {
    "deletable": true,
    "editable": true
   },
   "source": [
    "### 2.10. Adding a scalar\n",
    "\n",
    "We defined addition among ComplexNumbers,  but what about addition among a ComplexNumber and an `int` or a `float`? \n",
    "\n",
    "Will this work? \n",
    "\n",
    "```python\n",
    "ComplexNumber(3,4) + 5\n",
    "```\n",
    "\n",
    "What about this?\n",
    "\n",
    "```python\n",
    "ComplexNumber(3,4) + 5.0\n",
    "```\n",
    "\n",
    "Try to add the following method to your class, and check if it does work with the scalar:"
   ]
  },
  {
   "cell_type": "code",
   "execution_count": 42,
   "metadata": {
    "collapsed": true,
    "deletable": true,
    "editable": true
   },
   "outputs": [],
   "source": [
    "    def __add__(self, other): \n",
    "         # checks other object is instance of the class ComplexNumber\n",
    "        if isinstance(other, ComplexNumber): \n",
    "            return ComplexNumber(self.real + other.real,self.imaginary + other.imaginary)\n",
    "        \n",
    "        # else checks the basic type of other is int or float \n",
    "        elif type(other) is int or type(other) is float:  \n",
    "            return ComplexNumber(self.real + other, self.imaginary)\n",
    "        \n",
    "        # other is of some type we don't know how to process. \n",
    "        # In this case the Python specs say we MUST return 'NotImplemented'\n",
    "        else:\n",
    "            return NotImplemented"
   ]
  },
  {
   "cell_type": "markdown",
   "metadata": {
    "deletable": true,
    "editable": true
   },
   "source": [
    "Hopefully now you have a better add. But what about this? Will this work?\n",
    "\n",
    "```python\n",
    "5 + ComplexNumber(3,4)\n",
    "```\n",
    "\n",
    "Answer: it won't, Python needs further instructions. Usually Python tries to see if the class of the object on left of the expression defines addition for operands _to the right_ of it. In this case on the left we have a `float` number, and float numbers don't define any way to deal to the right with your very own `ComplexNumber` class. So as a last resort Python tries to see if your `ComplexNumber` class has defined also a way to deal with operands _to the left_ of the `ComplexNumber`, by looking for the method  `__radd__` , which means _reverse addition_ . Here we implement it :\n",
    "    \n",
    "```python    \n",
    "    def __radd__(self, other):\n",
    "        \"\"\" Returns the result of expressions like    other + self      \"\"\"\n",
    "        if (type(other) is int or type(other) is float):\n",
    "            return ComplexNumber(self.real + other, self.imaginary)\n",
    "        else:\n",
    "            return NotImplemented\n",
    "```        "
   ]
  },
  {
   "cell_type": "markdown",
   "metadata": {
    "deletable": true,
    "editable": true
   },
   "source": [
    "To check it is working and everything is in order for addition, add these test cases:\n",
    "    \n",
    "```python\n",
    "\n",
    "    def test_10_add_scalar_right(self):        \n",
    "        self.assertEquals(ComplexNumber(1,2) + 3, ComplexNumber(4,2));        \n",
    "\n",
    "    def test_11_add_scalar_left(self):        \n",
    "        self.assertEquals(3 + ComplexNumber(1,2), ComplexNumber(4,2));        \n",
    "        \n",
    "    def test_12_add_negative(self):\n",
    "        self.assertEquals(ComplexNumber(-1,0) + ComplexNumber(0,-1), ComplexNumber(-1,-1));\n",
    "```"
   ]
  },
  {
   "cell_type": "markdown",
   "metadata": {
    "deletable": true,
    "editable": true
   },
   "source": [
    "### 2.11. Complex numbers multiplication\n",
    "\n",
    "![](img/complex-numbers-multiplication.png)\n",
    "\n",
    "* Implement multiplication for `ComplexNumber`, taking inspiration from previous `__add__` implementation\n",
    "* Can you extend multiplication to work with scalars (both left and right) as well?\n",
    "\n",
    "\n",
    "To implement `__mul__`, copy this definition into `ComplexNumber` class: \n",
    "\n",
    "```python\n",
    "def __mul__(self, other):\n",
    "    raise Exception(\"TODO Implement me!\")\n",
    "```\n",
    "\n",
    "and add test cases to `ComplexNumberTest` class: \n",
    "\n",
    "```python\n",
    "    def test_13_mul_by_zero(self):\n",
    "        self.assertEquals(ComplexNumber(0,0) * ComplexNumber(1,2), ComplexNumber(0,0));\n",
    "        \n",
    "    def test_14_mul_just_real(self):\n",
    "        self.assertEquals(ComplexNumber(1,0) * ComplexNumber(2,0), ComplexNumber(2,0));\n",
    "\n",
    "    def test_15_mul_just_imaginary(self):\n",
    "        self.assertEquals(ComplexNumber(0,1) * ComplexNumber(0,2), ComplexNumber(-2,0));        \n",
    "\n",
    "    def test_16_mul_scalar_right(self):\n",
    "        self.assertEquals(ComplexNumber(1,2) * 3, ComplexNumber(3,6));\n",
    "\n",
    "    def test_17_mul_scalar_left(self):\n",
    "        self.assertEquals(3 * ComplexNumber(1,2), ComplexNumber(3,6));   \n",
    "```"
   ]
  },
  {
   "cell_type": "markdown",
   "metadata": {
    "deletable": true,
    "editable": true
   },
   "source": [
    "## 3. Solutions"
   ]
  },
  {
   "cell_type": "markdown",
   "metadata": {
    "deletable": true,
    "editable": true
   },
   "source": [
    "### 3.1. ComplexNumber Solution"
   ]
  },
  {
   "cell_type": "code",
   "execution_count": 43,
   "metadata": {
    "collapsed": false,
    "deletable": true,
    "editable": true
   },
   "outputs": [],
   "source": [
    "import unittest\n",
    "import math\n",
    "\n",
    "class ComplexNumber:\n",
    "\n",
    "    def __init__(self, real, imaginary):\n",
    "        self.real = real\n",
    "        self.imaginary = imaginary\n",
    "\n",
    "    def __str__(self):\n",
    "        return str(self.real) + \" + \" + str(self.imaginary) + \"i\"\n",
    "\n",
    "    def phase(self):\n",
    "        \"\"\" Returns a float which is the phase (that is, the vector angle) of the complex number \n",
    "        \n",
    "            This method is something we introduce by ourselves, according to the definition:\n",
    "            https://en.wikipedia.org/wiki/Complex_number#Absolute_value_and_argument\n",
    "        \"\"\"\n",
    "        return math.atan2(self.imaginary, self.real)    \n",
    "    \n",
    "    def log(self, base):\n",
    "        \"\"\" Returns another ComplexNumber which is the logarithm of this complex number \n",
    "            \n",
    "            This method is something we introduce by ourselves, according to the definition:\n",
    "            (accomodated for generic base b)\n",
    "            https://en.wikipedia.org/wiki/Complex_number#Natural_logarithm\n",
    "        \"\"\"      \n",
    "        return ComplexNumber(math.log(self.real) / math.log(base), self.phase() / math.log(base)) \n",
    "    \n",
    "    \n",
    "    def magnitude(self):\n",
    "        \"\"\" Returns a float which is the magnitude (that is, the absolute value) of the complex number \n",
    "        \n",
    "            This method is something we introduce by ourselves, according to the definition:\n",
    "            https://en.wikipedia.org/wiki/Complex_number#Absolute_value_and_argument\n",
    "        \"\"\"\n",
    "        return math.sqrt(self.real**2 + self.imaginary**2)\n",
    "    \n",
    "    \n",
    "    def __eq__(self, other): \n",
    "        return self.real == other.real  and self.imaginary == other.imaginary\n",
    "\n",
    "    def isclose(self, c, delta):\n",
    "        \"\"\" Returns True if the complex number is within a delta distance from complex number c.                                \n",
    "        \"\"\"\n",
    "        return math.sqrt((self.real-c.real)**2 + (self.imaginary-c.imaginary)**2) < delta\n",
    "    \n",
    "    def __add__(self, other): \n",
    "        if isinstance(other, ComplexNumber): \n",
    "            return ComplexNumber(self.real + other.real,self.imaginary + other.imaginary)\n",
    "        elif type(other) is int or type(other) is float:\n",
    "            return ComplexNumber(self.real + other, self.imaginary)\n",
    "        else:\n",
    "            return NotImplemented\n",
    "        \n",
    "\n",
    "    def __radd__(self, other): \n",
    "        if (type(other) is int or type(other) is float):\n",
    "            return ComplexNumber(self.real + other, self.imaginary)\n",
    "        else:\n",
    "            return NotImplemented\n",
    "    \n",
    "    \n",
    "    def __mul__(self, other): \n",
    "        \n",
    "        if isinstance(other, ComplexNumber): \n",
    "            return ComplexNumber(self.real * other.real - self.imaginary * other.imaginary,\n",
    "                                 self.imaginary * other.real + self.real * other.imaginary)\n",
    "        elif type(other) is int or type(other) is float:\n",
    "            return ComplexNumber(self.real * other, self.imaginary * other)\n",
    "        else:\n",
    "            return NotImplemented\n",
    "\n",
    "    def __rmul__(self, other):\n",
    "        if (type(other) is int or type(other) is float):\n",
    "            return ComplexNumber(self.real * other, self.imaginary * other)\n",
    "        else:\n",
    "            return NotImplemented\n",
    "                                \n",
    "\n",
    "class ComplexNumberTest(unittest.TestCase):\n",
    "\n",
    "    \"\"\" Test cases for ComplexNumber\n",
    "\n",
    "         Note this is a *completely* separated class from ComplexNumber and\n",
    "         we declare it here just for testing purposes!\n",
    "         The 'self' you see here have nothing to do with the selfs from the\n",
    "         ComplexNumber methods!        \n",
    "    \"\"\"\n",
    "        \n",
    "    def test_01_init(self):\n",
    "        self.assertEqual(ComplexNumber(1,2).real, 1)        \n",
    "        self.assertEqual(ComplexNumber(1,2).imaginary, 2)\n",
    "        \n",
    "    def test_02_phase(self):\n",
    "        \"\"\" \n",
    "            NOTE: we can't use assertEqual, as the result of phase() is a \n",
    "            float number which may have floating point rounding errors. So it's\n",
    "            necessary to use assertAlmostEqual\n",
    "            As an option with the delta you can declare the precision you require.\n",
    "            For more info see Python docs: \n",
    "            https://docs.python.org/2/library/unittest.html#unittest.TestCase.assertAlmostEqual\n",
    "            \n",
    "            NOTE: assertEqual might still work on your machine but just DO NOT use it \n",
    "            for float numbers!!!\n",
    "        \"\"\"       \n",
    "        self.assertAlmostEqual(ComplexNumber(0.0,1.0).phase(), math.pi / 2, delta=0.001)\n",
    "        \n",
    "    def test_03_str(self):        \n",
    "        self.assertEqual(str(ComplexNumber(1,2)), \"1 + 2i\")        \n",
    "        #self.assertEqual(str(ComplexNumber(1,0)), \"1\")\n",
    "        #self.assertEqual(str(ComplexNumber(1.0,0)), \"1.0\")\n",
    "        #self.assertEqual(str(ComplexNumber(0,1)), \"i\")\n",
    "        #self.assertEqual(str(ComplexNumber(0,0)), \"0\") \n",
    "\n",
    "        \n",
    "    def test_04_log(self):\n",
    "        c = ComplexNumber(1.0,1.0)\n",
    "        l = c.log(math.e)\n",
    "        self.assertAlmostEqual(l.real, 0.0, delta=0.001)\n",
    "        self.assertAlmostEqual(l.imaginary, c.phase(), delta=0.001)\n",
    "        \n",
    "    \n",
    "    def test_05_magnitude(self):\n",
    "        self.assertAlmostEqual(ComplexNumber(3.0,4.0).magnitude(),5, delta=0.001)                \n",
    "        \n",
    "    def test_06_integer_equality(self):\n",
    "        \"\"\"\n",
    "            Note all other tests depend on this test !\n",
    "            \n",
    "            We want also to test the constructor, so in c we set stuff by hand    \n",
    "        \"\"\"\n",
    "        c = ComplexNumber(0,0)\n",
    "        c.real = 1       \n",
    "        c.imaginary = 2        \n",
    "        self.assertEqual(c, ComplexNumber(1,2))    \n",
    "        \n",
    "    def test_07_isclose(self):\n",
    "        \"\"\"  Notice we use `assertTrue` because we expect `isclose` to return a `bool` value, and \n",
    "             we also test a case where we expect `False`\n",
    "        \"\"\"        \n",
    "        self.assertTrue(ComplexNumber(1.0,1.0).isclose(ComplexNumber(1.0,1.1), 0.2))        \n",
    "        self.assertFalse(ComplexNumber(1.0,1.0).isclose(ComplexNumber(10.0,10.0), 0.2))\n",
    "        \n",
    "    def test_08_add_zero(self):\n",
    "        self.assertEqual(ComplexNumber(1,2) + ComplexNumber(0,0), ComplexNumber(1,2));\n",
    "        \n",
    "    def test_09_add_numbers(self):        \n",
    "        self.assertEqual(ComplexNumber(1,2) + ComplexNumber(3,4), ComplexNumber(4,6));        \n",
    "\n",
    "    def test_10_add_scalar_right(self):        \n",
    "        self.assertEqual(ComplexNumber(1,2) + 3, ComplexNumber(4,2));        \n",
    "\n",
    "    def test_11_add_scalar_left(self):        \n",
    "        self.assertEqual(3 + ComplexNumber(1,2), ComplexNumber(4,2));        \n",
    "        \n",
    "    def test_12_add_negative(self):\n",
    "        self.assertEqual(ComplexNumber(-1,0) + ComplexNumber(0,-1), ComplexNumber(-1,-1));\n",
    "\n",
    "    def test_13_mul_by_zero(self):\n",
    "        self.assertEqual(ComplexNumber(0,0) * ComplexNumber(1,2), ComplexNumber(0,0));\n",
    "        \n",
    "    def test_14_mul_just_real(self):\n",
    "        self.assertEqual(ComplexNumber(1,0) * ComplexNumber(2,0), ComplexNumber(2,0));\n",
    "\n",
    "    def test_15_mul_just_imaginary(self):\n",
    "        self.assertEqual(ComplexNumber(0,1) * ComplexNumber(0,2), ComplexNumber(-2,0));        \n",
    "\n",
    "    def test_16_mul_scalar_right(self):\n",
    "        self.assertEqual(ComplexNumber(1,2) * 3, ComplexNumber(3,6));\n",
    "\n",
    "    def test_17_mul_scalar_left(self):\n",
    "        self.assertEqual(3 * ComplexNumber(1,2), ComplexNumber(3,6));        \n",
    "\n",
    "        \n",
    "    "
   ]
  },
  {
   "cell_type": "code",
   "execution_count": 44,
   "metadata": {
    "collapsed": false,
    "deletable": true,
    "editable": true,
    "scrolled": true
   },
   "outputs": [
    {
     "name": "stderr",
     "output_type": "stream",
     "text": [
      ".................\n",
      "----------------------------------------------------------------------\n",
      "Ran 17 tests in 0.017s\n",
      "\n",
      "OK\n"
     ]
    }
   ],
   "source": [
    "jupman.run(ComplexNumberTest)"
   ]
  },
  {
   "cell_type": "code",
   "execution_count": null,
   "metadata": {
    "collapsed": true,
    "deletable": true,
    "editable": true
   },
   "outputs": [],
   "source": []
  }
 ],
 "metadata": {
  "celltoolbar": "Edit Metadata",
  "kernelspec": {
   "display_name": "Python 3",
   "language": "python",
   "name": "python3"
  },
  "language_info": {
   "codemirror_mode": {
    "name": "ipython",
    "version": 3
   },
   "file_extension": ".py",
   "mimetype": "text/x-python",
   "name": "python",
   "nbconvert_exporter": "python",
   "pygments_lexer": "ipython3",
   "version": "3.5.2"
  }
 },
 "nbformat": 4,
 "nbformat_minor": 1
}
