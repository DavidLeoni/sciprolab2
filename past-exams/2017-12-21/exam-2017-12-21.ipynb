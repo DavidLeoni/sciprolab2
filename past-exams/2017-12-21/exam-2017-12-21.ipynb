{
 "cells": [
  {
   "cell_type": "markdown",
   "metadata": {},
   "source": [
    "# Midterm Thursday 21, December 2017\n",
    "\n",
    "**Scientific Programming Labs, 2nd part: Algorithms - Quantitative Computational Biology Master, CIBIO**\n",
    "\n",
    "\n"
   ]
  },
  {
   "cell_type": "markdown",
   "metadata": {
    "collapsed": true
   },
   "source": [
    "## [Download exercises + solution](../../_static/2017-12-21-exam.zip)\n",
    "\n",
    "\n",
    "## Introduction\n",
    "\n",
    "\n",
    "### Allowed material\n",
    "\n",
    "There won't be any internet access. You will only be able to access:"
   ]
  },
  {
   "cell_type": "raw",
   "metadata": {
    "raw_mimetype": "text/html"
   },
   "source": [
    "\n",
    "<ul>\n",
    "<li><a href=\"index.html\" target=\"_blank\">Scientific Programming Algolab worksheets</a></li>\n",
    "<li><a href=\"../montresor/Montresor%20sciprog/cricca.disi.unitn.it/montresor/teaching/scientific-programming/slides/index.html\" target=\"_blank\">Alberto Montresor slides</a></li>\n",
    "<li><a href=\"http://sciprolab1.readthedocs.io/\" target=\"_blank\">Luca Bianco docs</a></li>\n",
    "<li>Python 3 documentation :&nbsp;&nbsp; <a href=\"../python-docs/html/index.html\" target=\"_blank\">html</a>\n",
    "&nbsp;&nbsp;<a href=\"../python-docs/pdf\" target=\"_blank\">pdf</a>\n",
    "<br/> In particular, <a href=\"../python-docs/html/library/unittest.html\" target=\"_blank\">Unittest docs</a>\n",
    "</li>\n",
    "<li>The course book <i>Problem Solving with Algorithms and Data Structures using Python</i> &nbsp;&nbsp;<a href=\"../pythonds/index.html\" target=\"_blank\">html</a> &nbsp;&nbsp;&nbsp;<a href=\"../pythonds/ProblemSolvingwithAlgorithmsandDataStructures.pdf\" target=\"_blank\">pdf</a>\n",
    "</li>\n",
    "</ul>\n"
   ]
  },
  {
   "cell_type": "raw",
   "metadata": {
    "raw_mimetype": "text/latex"
   },
   "source": [
    "\\begin{itemize}  \n",
    "\\item Scientific Programming Algolab worksheets\n",
    "\\item Alberto Montresor slides\n",
    "\\item Luca Bianco docs\n",
    "\\item Python 3 documentation (in particular, see unittest)\n",
    "\\item The course book \"Problem Solving with Algorithms and Data Structures using Python\"\n",
    "\\end{itemize}"
   ]
  },
  {
   "cell_type": "markdown",
   "metadata": {},
   "source": [
    "\n",
    "### Grading\n",
    "\n",
    "\n",
    "* **Lab grade:** The grade of this lab part will range from 0 to 30. First exercise is more about theory with dynamic programming, and will be assessed by Alberto Montresor, the other 2 exercises by David Leoni\n",
    "* **Correct implementations**: Correct implementations with the required complexity grant you full grade.\n",
    "* **Partial implementations**: Partial implementations _might_ still give you a few points. If you just can't solve an exercise,  try to solve it at least for some subcase (i.e. array of fixed size 2) commenting why you did so. \n",
    "* **Bonus point**: One bonus point can be earned by writing stylish code. You got style if you:\n",
    "\n",
    "    - do not infringe the [Commandments](../../intro.ipynb#Commandments)\n",
    "    - write [pythonic code](http://docs.python-guide.org/en/latest/writing/style)\n",
    "    - avoid convoluted code like i.e.\n",
    "\n",
    "        ```\n",
    "        if x > 5:\n",
    "            return True\n",
    "        else:\n",
    "            return False\n",
    "        ```\n",
    "\n",
    "        when you could write just\n",
    "\n",
    "        ```\n",
    "        return x > 5\n",
    "        ```       \n",
    "\n",
    "### Valid code"
   ]
  },
  {
   "cell_type": "markdown",
   "metadata": {
    "scrolled": true
   },
   "source": [
    "<div class=\"alert alert-warning\">\n",
    "\n",
    "**WARNING**: MAKE SURE ALL EXERCISE FILES AT LEAST COMPILE !!! \n",
    "10 MINS BEFORE THE END OF THE EXAM I WILL ASK YOU TO DO A FINAL CLEAN UP OF THE CODE \n",
    "</div>\n",
    "\n",
    "\n",
    "\n",
    "<div class=\"alert alert-warning\">\n",
    "\n",
    "**WARNING**: _ONLY_ IMPLEMENTATIONS OF THE PROVIDED FUNCTION SIGNATURES WILL BE EVALUATED !!!!!!!!! <br/>    \n",
    "\n",
    "</div>"
   ]
  },
  {
   "cell_type": "markdown",
   "metadata": {},
   "source": [
    "\n",
    "For example, if you are given to implement: \n",
    "\n",
    "```python\n",
    "    def f(x):\n",
    "        raise Exception(\"TODO implement me\")\n",
    "```\n",
    "\n",
    "and you ship this code:\n",
    "\n",
    "``` python\n",
    "def my_f(x):\n",
    "    # a super fast, correct and stylish implementation\n",
    "\n",
    "def f(x):\n",
    "    raise Exception(\"TODO implement me\")\n",
    "```\n",
    "\n",
    "We will assess only the latter one `f(x)`, and conclude it doesn't work at all :P   !!!!!!!\n",
    "\n",
    "**Helper functions**\n",
    "\n",
    "Still, you are allowed to define any extra helper function you might need. If your `f(x)` implementation calls some other function you defined like `my_f` here, it is ok:\n",
    "\n",
    "```python\n",
    "# Not called by f, will get ignored:\n",
    "def my_g(x):\n",
    "    # bla\n",
    "\n",
    "# Called by f, will be graded:\n",
    "def my_f(y,z):\n",
    "    # bla\n",
    "\n",
    "def f(x):\n",
    "    my_f(x,5)\n",
    "    \n",
    "\n",
    "```\n",
    "\n",
    "\n",
    "\n",
    "### How to edit and run\n",
    "\n",
    "To edit the files, you can use any editor of your choice: \n",
    "* **Editra editor** is easy to use, you can find it under _Applications->Programming->Editra_.\n",
    "* Others could be _GEdit_ (simpler), or _PyCharm_ (more complex).\n",
    "\n",
    "To run the tests, use **the Terminal** which can be found in _Accessories -> Terminal_ \n",
    "\n",
    "\n"
   ]
  },
  {
   "cell_type": "markdown",
   "metadata": {},
   "source": [
    "\n",
    "<div class=\"alert alert-info\">\n",
    "\n",
    "**IMPORTANT**: Pay close attention to the comments of the functions.\n",
    "</div>\n",
    "\n",
    "<div class=\"alert alert-warning\">\n",
    "\n",
    "**WARNING**: _DON'T_ modify function signatures! Just provide the implementation.\n",
    "</div>\n",
    "\n",
    "<div class=\"alert alert-warning\">\n",
    "\n",
    "**WARNING**: <i>DON'T</i> change the existing test methods, just add new ones !!!  You can add as many as you want.\n",
    "</div>\n",
    "\n",
    "<div class=\"alert alert-warning\">\n",
    "\n",
    "**WARNING**: _DON'T_ create other files. If you still do it, they won't be evaluated.\n",
    "</div>\n",
    "\n",
    "\n"
   ]
  },
  {
   "cell_type": "markdown",
   "metadata": {},
   "source": [
    "### Debugging \n",
    "\n",
    "If you need to print some debugging information, you are allowed to put extra <code>print</code>\n",
    "    statements in the function bodies."
   ]
  },
  {
   "cell_type": "markdown",
   "metadata": {},
   "source": [
    "\n",
    "<div class=\"alert alert-warning\">\n",
    "\n",
    "**WARNING:** even if print statements are allowed, be careful with prints that might\n",
    "     break your function! \n",
    "</div>\n"
   ]
  },
  {
   "cell_type": "markdown",
   "metadata": {},
   "source": [
    "For example, avoid stuff like this: \n",
    "\n",
    "```python\n",
    "x = 0\n",
    "print(1/x)\n",
    "```\n"
   ]
  },
  {
   "cell_type": "markdown",
   "metadata": {},
   "source": [
    "### What to do\n",
    "\n",
    "1) Download [2017-12-21-exam.zip](../../_static/2017-12-21-exam.zip) and extract it **on your desktop**. Folder content should be like this:\n",
    "\n",
    "```\n",
    "sciprolab2-2017-12-21\n",
    "    |- FIRSTNAME-LASTNAME-ID\n",
    "        |- exercise1.py\n",
    "        |- exercise2.py\n",
    "        |- exercise3.py    \n",
    "\n",
    "```\n",
    "\n",
    "2) Rename `FIRSTNAME-LASTNAME-ID` folder: put your name, lastname an id number, like `john-doe-432432`\n",
    "\n",
    "From now on, you will be editing the files in that folder. At the end of the exam, that is what will be evaluated.\n",
    "\n",
    "3) Edit the files following the instructions in this worksheet for each exercise. Every exercise should take max 25 mins. If it takes longer, leave it and try another exercise.\n",
    " \n"
   ]
  },
  {
   "cell_type": "markdown",
   "metadata": {},
   "source": [
    "\n",
    "## 1) Longest palindrome substring\n",
    "\n",
    "\n",
    "### 1.0) run `EnvWorkingTest`\n",
    "\n",
    "Now open the file `exercise1.py` and check your environment is working fine, by trying to run the test `EnvWorkingTest`: it should always pass, if it doesn't, tell your instructor.\n",
    "\n",
    "**Notice that  `exercise1` is followed by a dot and test class name: `.EnvWorkingTest` **\n",
    "\n",
    "```bash\n",
    "\n",
    " python -m unittest exercise1_test.EnvWorkingTest\n",
    "\n",
    "```"
   ]
  },
  {
   "cell_type": "markdown",
   "metadata": {},
   "source": [
    "\n",
    "### 1.1) Longest palindrome substring\n",
    "\n",
    "\n",
    "Your task is to find the length of the longest palindrome substring contained in a given string (not subsequence, only contiguous characters are counted). For example, `\"BUBBASEESABANANA\"` contains `\"BASEESAB\"`, so the answer would be 8. `\"AFISICACISIFA\"` is palindrome, so the answer would be 13.\n",
    "\n",
    "Write a function that takes a string `S` in input and returns the length of the longest palindrome contained in it.\n",
    "\n",
    "Any solution will be accepted, but we will evaluate them based on performance.\n",
    "There is a simple solution based on loops that returns the answer in\n",
    "`O(n^3)` time. There is a memoization solution that takes `O(n^2)` time.\n",
    "\n",
    "Write a recursive formula that computes `DP(i,j)`, i.e. the longest palindrome substring contained in the slice `S[i:j+1]`.\n",
    "\n",
    "**Hint 1**: Consider the base cases: when the slice length is 1 `(i==j)` or 0 `(j==i-1)`, there is a palindrome inside of length 1 or 0\n",
    "\n",
    "**Hint 2**: Consider what happens when `S[i]!=S[j]`; one of the two characters must be discarded.  Example: the longest palindrome in \"ATARI\" is the longest palindrome in \"ATAR\" or \"TARI\"\n",
    "\n",
    "**Hint 3**: Consider what happens when `S[i]==S[j]`:\n",
    "\n",
    "If the string contained in `S[i+1:j]` (i.e. discarding the first and last characters is a palindrome, then `S[i:j+1]` is a palindrome as well. Example: `\"ATA\"` is palindrome because `\"T\"` is palidrome\n",
    "- Otherwise, we end up in case (2). For example, the longest palindrome in `\"ANNAA\"` is the longest palindrome in `\"ANNA\"` or `\"NNAA\"`\n",
    "\n",
    "\n",
    "\n",
    "```python\n",
    "\n",
    "    def lopal(S):\n",
    "        \"\"\" Takes a string `S` in input and returns the length of the longest palindrome contained in it.\n",
    "        \"\"\"\n",
    "        raise Exception(\"TODO IMPLEMENT ME !!!\")\n",
    "     \n",
    "```\n",
    "\n",
    "**Testing**\n",
    "\n",
    "Once done, running this will run only the tests in `LopalTest` class and hopefully they will pass. \n",
    "\n",
    "**Notice that  `exercise1` is followed by a dot and test class name `.LopalTest` :**\n",
    "\n",
    "```bash\n",
    " python -m unittest exercise1_test.LopalTest\n",
    "\n",
    "```\n"
   ]
  },
  {
   "cell_type": "markdown",
   "metadata": {},
   "source": [
    "## 2) Linked List\n",
    "\n",
    "\n",
    "## 2.1) `__eq__`\n",
    "\n",
    "Implement the method `__eq__`:\n",
    "\n",
    "```python\n",
    "\n",
    "    def __eq__(self, other):\n",
    "        \"\"\" Returns True if self is equal to other, that is, if all the data elements in the respective\n",
    "            nodes are the same. Otherwise, return False.\n",
    "            \n",
    "            NOTE: compares the *data* in the nodes, NOT the nodes themselves !\n",
    "        \"\"\"\n",
    "    \n",
    "```\n",
    "\n",
    "**Testing**: `python -m unittest exercise2_test.EqTest`\n"
   ]
  },
  {
   "cell_type": "markdown",
   "metadata": {},
   "source": [
    "\n",
    "## 2.2) `__remsub__`\n",
    "\n",
    "Implement the method `__remsub__`:\n",
    "\n",
    "```python\n",
    "    def remsub(self, rem):\n",
    "        \"\"\" Removes the first elements found in this LinkedList that match subsequence rem\n",
    "            Parameter rem is the subsequence to eliminate, which is also a LinkedList.\n",
    "            \n",
    "            Examples:\n",
    "                aabca  remsub ac  =  aba \n",
    "                aabca  remsub cxa =  aaba  # when we find a never matching character in rem like 'x' here, \n",
    "                                             the rest of rem after 'x' is not considered.\n",
    "                aabca  remsub ba  =  aac\n",
    "                aabca  remsub a   =  abca\n",
    "                abcbab remsub bb  =  acab\n",
    "        \"\"\"\n",
    "```\n",
    "\n",
    "**Testing**: `python -m unittest exercise2_test.RemsubTest`\n"
   ]
  },
  {
   "cell_type": "markdown",
   "metadata": {},
   "source": [
    "## 3) DiGraph\n",
    "\n",
    "Implement function `spantree:`\n",
    "\n",
    "```python\n",
    "    def spantree(self, source):\n",
    "        \n",
    "        \"\"\" Returns a dictionary where the keys are verteces, and each vertex v is associated\n",
    "            to the shortest path to go from the root to reach v, represented as a tuple of labels\n",
    "            which includes the node itself.             \n",
    "            \n",
    "            - If node is unreachable, the path will be the empty tuple.\n",
    "            - Source has empty path\n",
    "            - Verteces immediately connected to source have only source in the associated tuple.\n",
    "            - if source is not a vertex, raises an Exception\n",
    "\n",
    "            if source is not a vertex, raises an Exception\n",
    "\n",
    "            HINT: to implement this, copy and edit either dfs or bfs. Question: which one ?\n",
    "                         \n",
    "        \"\"\"\n",
    "```\n",
    "\n",
    "**Testing**: `python -m unittest exercise3_test.SpantreeTest`\n"
   ]
  }
 ],
 "metadata": {
  "celltoolbar": "Edit Metadata",
  "kernelspec": {
   "display_name": "Python 3",
   "language": "python",
   "name": "python3"
  },
  "language_info": {
   "codemirror_mode": {
    "name": "ipython",
    "version": 3
   },
   "file_extension": ".py",
   "mimetype": "text/x-python",
   "name": "python",
   "nbconvert_exporter": "python",
   "pygments_lexer": "ipython3",
   "version": "3.5.2"
  }
 },
 "nbformat": 4,
 "nbformat_minor": 1
}
