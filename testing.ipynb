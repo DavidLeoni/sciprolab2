{
 "cells": [
  {
   "cell_type": "code",
   "execution_count": 1,
   "metadata": {
    "collapsed": false,
    "deletable": true,
    "editable": true,
    "nbsphinx": "hidden"
   },
   "outputs": [
    {
     "data": {
      "text/html": [
       "<style>\n",
       "\n",
       "    #jupman-nav {\n",
       "        position: fixed;\n",
       "        top: 10px; \n",
       "        left: 5px; \n",
       "        background: white;\n",
       "        width: 200px; \n",
       "        padding: 10px; \n",
       "        z-index: 10;\n",
       "    }\n",
       "\n",
       "    /* style=\"background: rgba(255, 255, 255, 0);\" class=\"unstyled\" */\n",
       "  \n",
       "    #jupman-toc {\n",
       "        position: fixed;\n",
       "        top: 100px; \n",
       "        left: -55px; \n",
       "        background: rgba(255, 255, 255, 0);\n",
       "        \n",
       "        height: 80%;\n",
       "        width: 200px; \n",
       "        padding: 20px; \n",
       "        z-index: 10;\n",
       "        overflow-y: scroll;        \n",
       "            /* font-size: 50%; */\n",
       "    }\n",
       "\n",
       "    \n",
       "    \n",
       "    code {\n",
       "        background-color:rgb(245, 249, 249) !important;\n",
       "    }\n",
       "    \n",
       "    \n",
       "    .jupman-nav-item {\n",
       "        font-weight:bold;\n",
       "        font-size:120%  \n",
       "    }\n",
       "    \n",
       "    .jupman-chapter-link {\n",
       "        font-size:150%;\n",
       "        margin-right:15px;        \n",
       "    }\n",
       "    \n",
       "    .jupman-chapter-link a {\n",
       "        text-decoration: none;\n",
       "    }    \n",
       "    \n",
       "    .jupman-title {\n",
       "        font-size:250%; \n",
       "        font-weight:bold        \n",
       "    }    \n",
       "        \n",
       "    .jupman-warn {    \n",
       "        background-color: #fcf2f2;        \n",
       "        border-left: 5px solid #dfb5b4;\n",
       "        padding: 1.5em;\n",
       "        font-weight:bold;\n",
       "        margin-bottom:10px;\n",
       "    }\n",
       "\n",
       "    .jupman-question {    \n",
       "        background-color: rgb(251, 231, 250);\n",
       "        border-left: 5px solid rgb(189, 151, 184);\n",
       "        padding: 1.5em;\n",
       "        font-weight:bold;\n",
       "        margin-bottom:10px;\n",
       "    }\n",
       "        \n",
       "    \n",
       "    .jupman-important {\n",
       "        background-color: rgba(255, 238, 0, 0.31);\n",
       "        border-left: 5px solid rgba(205, 208, 0, 1.0);\n",
       "        color: #000;        \n",
       "        padding: 1.5em;\n",
       "        font-weight:bold;\n",
       "        margin-bottom:10px;\n",
       "    }\n",
       "    \n",
       "    \n",
       "    #jupman-toc ul {                                                                                                                                                                           \n",
       "        list-style-type: none;                                                                                                                                                                 \n",
       "        margin-left: 5px;\n",
       "    }\n",
       "    \n",
       "    #jupman-toc li {        \n",
       "         padding-left: 3px;\n",
       "    }    \n",
       "    \n",
       "    #jupman-toc .h1 {\n",
       "        font-size:110%; \n",
       "        \n",
       "    }\n",
       "    \n",
       "    #jupman-toc .h2 {\n",
       "        font-size:100%; \n",
       "        padding-left:15px;\n",
       "    }\n",
       "\n",
       "    #jupman-toc .h3 {\n",
       "        font-size:100%; \n",
       "        padding-left:25px;\n",
       "    }\n",
       "    \n",
       "    \n",
       "    \n",
       "    #notebook-container {\n",
       "        box-shadow : none;\n",
       "\t-web-kit-box-shadow: none;\n",
       "    }\n",
       "    \n",
       "\n",
       "    #jupman-toc .toc-active {\n",
       "        background: rgba(168, 254, 255, 0.32);\n",
       "    }\n",
       "\n",
       "    .jupman-solution {       \n",
       "        padding:1px;\n",
       "    }\n",
       "\n",
       "    .jupman-solution-header {\n",
       "        display:none;\n",
       "        color: blue;\n",
       "        text-decoration: underline;\n",
       "        cursor: pointer;\n",
       "    }\n",
       " </style>\n",
       "\n",
       "<script>\n",
       "var JUPMAN_IN_JUPYTER = true;\n",
       "/*!\n",
       " * toc - jQuery Table of Contents Plugin\n",
       " * v0.3.2\n",
       " * http://projects.jga.me/toc/\n",
       " * copyright Greg Allen 2014\n",
       " * MIT License\n",
       "*/\n",
       "!function(a){a.fn.smoothScroller=function(b){b=a.extend({},a.fn.smoothScroller.defaults,b);var c=a(this);return a(b.scrollEl).animate({scrollTop:c.offset().top-a(b.scrollEl).offset().top-b.offset},b.speed,b.ease,function(){var a=c.attr(\"id\");a.length&&(history.pushState?history.pushState(null,null,\"#\"+a):document.location.hash=a),c.trigger(\"smoothScrollerComplete\")}),this},a.fn.smoothScroller.defaults={speed:400,ease:\"swing\",scrollEl:\"body,html\",offset:0},a(\"body\").on(\"click\",\"[data-smoothscroller]\",function(b){b.preventDefault();var c=a(this).attr(\"href\");0===c.indexOf(\"#\")&&a(c).smoothScroller()})}(jQuery),function(a){var b={};a.fn.toc=function(b){var c,d=this,e=a.extend({},jQuery.fn.toc.defaults,b),f=a(e.container),g=a(e.selectors,f),h=[],i=e.activeClass,j=function(b,c){if(e.smoothScrolling&&\"function\"==typeof e.smoothScrolling){b.preventDefault();var f=a(b.target).attr(\"href\");e.smoothScrolling(f,e,c)}a(\"li\",d).removeClass(i),a(b.target).parent().addClass(i)},k=function(){c&&clearTimeout(c),c=setTimeout(function(){for(var b,c=a(window).scrollTop(),f=Number.MAX_VALUE,g=0,j=0,k=h.length;k>j;j++){var l=Math.abs(h[j]-c);f>l&&(g=j,f=l)}a(\"li\",d).removeClass(i),b=a(\"li:eq(\"+g+\")\",d).addClass(i),e.onHighlight(b)},50)};return e.highlightOnScroll&&(a(window).bind(\"scroll\",k),k()),this.each(function(){var b=a(this),c=a(e.listType);g.each(function(d,f){var g=a(f);h.push(g.offset().top-e.highlightOffset);var i=e.anchorName(d,f,e.prefix);if(f.id!==i){a(\"<span/>\").attr(\"id\",i).insertBefore(g)}var l=a(\"<a/>\").text(e.headerText(d,f,g)).attr(\"href\",\"#\"+i).bind(\"click\",function(c){a(window).unbind(\"scroll\",k),j(c,function(){a(window).bind(\"scroll\",k)}),b.trigger(\"selected\",a(this).attr(\"href\"))}),m=a(\"<li/>\").addClass(e.itemClass(d,f,g,e.prefix)).append(l);c.append(m)}),b.html(c)})},jQuery.fn.toc.defaults={container:\"body\",listType:\"<ul/>\",selectors:\"h1,h2,h3\",smoothScrolling:function(b,c,d){a(b).smoothScroller({offset:c.scrollToOffset}).on(\"smoothScrollerComplete\",function(){d()})},scrollToOffset:0,prefix:\"toc\",activeClass:\"toc-active\",onHighlight:function(){},highlightOnScroll:!0,highlightOffset:100,anchorName:function(c,d,e){if(d.id.length)return d.id;var f=a(d).text().replace(/[^a-z0-9]/gi,\" \").replace(/\\s+/g,\"-\").toLowerCase();if(b[f]){for(var g=2;b[f+g];)g++;f=f+\"-\"+g}return b[f]=!0,e+\"-\"+f},headerText:function(a,b,c){return c.text()},itemClass:function(a,b,c,d){return d+\"-\"+c[0].tagName.toLowerCase()}}}(jQuery);\n",
       "\n",
       "/*\n",
       " * JUPYTER MANAGER JavaScript https://github.com/DavidLeoni/jupman \n",
       " * \n",
       " */\n",
       "\n",
       "function toggleVisibility(what){\n",
       "        var e = document.getElementById(what);\n",
       "        if(e.style.display == 'block')\n",
       "          e.style.display = 'none';\n",
       "        else\n",
       "          e.style.display = 'block';\n",
       "    };\n",
       "    \n",
       "\n",
       "function showthis(url) {\n",
       "    window.open(url, \"pres\", \"toolbar=yes,scrollbars=yes,resizable=yes,top=10,left=400,width=500,height=500\");\n",
       "    return(false);\n",
       "}\n",
       "\n",
       "var jupman = {\n",
       "    \n",
       "    isReduced : function(){\n",
       "        return $(window).width() < 924;\n",
       "    },\n",
       "    hoverToc : function(){\n",
       "        return $('#jupman-toc:hover').length != 0;\n",
       "    },\n",
       "    resize : function(){\n",
       "        if (jupman.isReduced()){\n",
       "            $(\"#jupman-toc\").hide();\n",
       "        } else {\n",
       "            $(\"#jupman-toc\").show();\n",
       "            $(\"#jupman-toc\").css(\"background\",\"rgba(255, 255, 255, 0)\");\n",
       "            \n",
       "            tocParams = {\n",
       "                \n",
       "                'selectors': 'h1,h2,h3', //elements to use as headings\n",
       "                'container': 'body', //element to find all selectors in\n",
       "                'smoothScrolling': true, //enable or disable smooth scrolling on click\n",
       "                 //doesn't work  'prefix': 'jupman-toc', //prefix for anchor tags and class names\n",
       "                //'onHighlight': function(el) {}, //called when a new section is highlighted \n",
       "                'highlightOnScroll': true, //add class to heading that is currently in focus\n",
       "                'highlightOffset': 100, //offset to trigger the next headline\n",
       "                'anchorName': function(i, heading, prefix) { //custom function for anchor name\n",
       "                    return prefix+i;\n",
       "                },\n",
       "                'headerText': function(i, heading, $heading) { //custom function building the header-item text                  \n",
       "                    return $heading.text().replace(\"¶\",\"\");\n",
       "                },\n",
       "                'itemClass': function(i, heading, $heading, prefix) { // custom function for item class\n",
       "                    return $heading[0].tagName.toLowerCase();\n",
       "                }                \n",
       "            }\n",
       "            \n",
       "            $('#jupman-toc').toc(tocParams);\n",
       "        }\n",
       "    },\n",
       "    /**\n",
       "        Hides cell input\n",
       "        \n",
       "        Renamed in 0.19\n",
       "    */    \n",
       "    hideCell : function(prefixOrRegex){\n",
       "        \n",
       "        $('.border-box-sizing .code_cell pre').filter(function() { \n",
       "                var t = $(this).text();\n",
       "                if (typeof prefixOrRegex == \"string\"){\n",
       "                    return t.indexOf(prefixOrRegex) === 0;\n",
       "                } else if ( prefixOrRegex instanceof RegExp){\n",
       "                    return t.match(prefixOrRegex);\n",
       "                } else {\n",
       "                    console.error(\"Invalid argument:\", prefixOrRegex);\n",
       "                    throw new Error(\"Invalid argument!\");\n",
       "                }\n",
       "            }).parents('div .cell .input').hide();        \n",
       "    },\n",
       "    /**\n",
       "        Hides the cell input AND output.\n",
       "        \n",
       "        @since 0.19\n",
       "    */\n",
       "    hideCellAll : function(prefix){        \n",
       "        $('.border-box-sizing .code_cell pre').filter(function() { \n",
       "                return $(this).text().indexOf(prefix) === 0; \n",
       "            }).parents('div .cell ').hide();        \n",
       "    },\n",
       "    \n",
       "    toggleVisibility: function(what){\n",
       "        var e = document.getElementById(what);\n",
       "        if(e.style.display == 'block')\n",
       "          e.style.display = 'none';\n",
       "        else\n",
       "          e.style.display = 'block';\n",
       "    },\n",
       "    \n",
       "    /**\n",
       "     *  Code common to both jupman in jupyter and ReadTheDocs\n",
       "    */\n",
       "    initCommon : function(){\n",
       "        \n",
       "        $(\".jupman-solution-header\").remove();\n",
       "        span = $('<div>');\n",
       "        span.addClass('jupman-solution-header');\n",
       "        span.text('Show/hide solution');\n",
       "        \n",
       "        span.insertBefore(\".jupman-solution\");\n",
       "        \n",
       "        \n",
       "        $(\".jupman-solution\").hide();\n",
       "        $(\".jupman-solution-header\").show();\n",
       "\n",
       "        $('.jupman-solution-header')\n",
       "            .off('click')\n",
       "            .click(function(){\n",
       "                \n",
       "                var uls = $(this).nextAll(\".jupman-solution\");             \n",
       "                var sibling = uls.eq(0);\n",
       "                          \n",
       "                sibling.slideToggle();        \n",
       "                ev.preventDefault();\n",
       "                ev.stopPropagation();\n",
       "        });\n",
       "\n",
       "    },\n",
       "\n",
       "    /**\n",
       "     *   Jupyter only instructions - doesn't run on ReadTheDocs\n",
       "     */\n",
       "    initJupyter : function(){\n",
       "        \n",
       "       var toc = $(\"<div>\").attr(\"id\", \"jupman-toc\");              \n",
       "       var indexLink = $(\"<a>\")\n",
       "                        .addClass(\"jupman-nav-item\")\n",
       "                        .attr(\"href\",\"index.html#Chapters\")\n",
       "                        .text(\"jupman\");\n",
       "       \n",
       "       var candidateTitleText = $(\".jupman-title\").text();              \n",
       "                                  \n",
       "                    \n",
       "       \n",
       "       var nav = $(\"<div>\")\n",
       "                     .attr(\"id\", \"jupman-nav\")\n",
       "                    .append(indexLink);       \n",
       "       \n",
       "       if (candidateTitleText.length !== 0){\n",
       "\n",
       "           var title = $(\"<span>\")\n",
       "                    .addClass(\"jupman-nav-item\")\n",
       "                    .css(\"padding-left\",\"8px\")\n",
       "                    .text(candidateTitleText);\n",
       "            nav.append(\"<br>\")\n",
       "                .append(\"<br>\")\n",
       "                .append(title);                                \n",
       "        }\n",
       "          \n",
       "        \n",
       "        \n",
       "       // TODO THIS HIDE STUFF DOES NOT WORK ANYMORE AFTER PORTING TO NBSPHINX \n",
       "       // WE SHOULD USE \n",
       "       // \n",
       "       jupman.hideCell(\"%%HTML\");\n",
       "       jupman.hideCell(\"import jupman\");   \n",
       "       \n",
       "        // TODO this is a bit too hacky   \n",
       "       jupman.hideCell(/from exercise(.+)_solution import \\*/)\n",
       "       \n",
       "       jupman.hideCell(\"jupman.init()\"); \n",
       "       jupman.hideCell(\"jupman.show_run(\");\n",
       "       jupman.hideCell(\"nxpd.draw(\");\n",
       "       jupman.hideCellAll(\"jupman.run(\"); \n",
       "              \n",
       "       if ($(\"#jupman-toc\").length === 0){\n",
       "           $(\"body\").append(toc);       \n",
       "       } else {\n",
       "           $(\"#jupman-toc\").replaceWith(toc);\n",
       "       }\n",
       "       \n",
       "       if ($(\"#jupman-nav\").length === 0){\n",
       "           $(\"body\").append(nav);       \n",
       "       } else {\n",
       "           $(\"#jupman-nav\").replaceWith(nav);\n",
       "       }              \n",
       "\n",
       "       \n",
       "        $( window ).resize(function() {\n",
       "            jupman.resize();\n",
       "        });\n",
       "\n",
       "\n",
       "        $(\"body\").on(\"mousemove\",function(event) {\n",
       "            if (jupman.isReduced()){\n",
       "                if (event.pageX < 50) {            \n",
       "                     $(\"#jupman-toc\").show(); \n",
       "                    $(\"#jupman-toc\").css(\"background\",\"rgba(255, 255, 255, 1.0)\");\n",
       "                } else {\n",
       "\n",
       "                    if (jupman.hoverToc()) {                    \n",
       "                    } else {\n",
       "                        $(\"#jupman-toc\").hide();                        \n",
       "                    }\n",
       "\n",
       "        /*            if ($(\"#jupman-toc\").is(\":visible\")){\n",
       "                        if (jupman.hoverToc()) {                    \n",
       "                        } else {\n",
       "                            $(\"#jupman-toc\").hide();                        \n",
       "                        }\n",
       "                    } else {\n",
       "                        if (jupman.hoverToc())\n",
       "                          show\n",
       "                      } else {\n",
       "                        $(\"#jupman-toc\").hide();                        \n",
       "                       }                 \n",
       "                    }\n",
       "          */     \n",
       "                }\n",
       "            }\n",
       "        });\n",
       " \n",
       "        \n",
       "       jupman.resize();\n",
       "       console.log(\"Finished initializing jupman.js in Jupyter Notebook.\")\n",
       "    },\n",
       "    \n",
       "    /**\n",
       "    * RTD only instructions\n",
       "    */\n",
       "    initReadTheDocs : function(){  \n",
       "        \n",
       "        console.log(\"Finished initializing jupman.js in ReadTheDocs\")        \n",
       "    },\n",
       "    \n",
       "    /**\n",
       "     * Initializes jupman.js\n",
       "     */\n",
       "    init : function(){\n",
       "\n",
       "       jupman.initCommon();\n",
       "        \n",
       "       if (typeof JUPMAN_IN_JUPYTER === \"undefined\" || !JUPMAN_IN_JUPYTER ){            \n",
       "           jupman.initReadTheDocs();\n",
       "       } else {\n",
       "           jupman.initJupyter();\n",
       "       }\n",
       "        \n",
       "    }\n",
       "}\n",
       "\n",
       "$(document).ready(jupman.init);\n",
       "\n",
       "</script>\n"
      ],
      "text/plain": [
       "<IPython.core.display.HTML object>"
      ]
     },
     "execution_count": 1,
     "metadata": {},
     "output_type": "execute_result"
    }
   ],
   "source": [
    "import jupman\n",
    "jupman.init()"
   ]
  },
  {
   "cell_type": "markdown",
   "metadata": {
    "deletable": true,
    "editable": true
   },
   "source": [
    "# Chapter 0: Testing\n",
    "\n"
   ]
  },
  {
   "cell_type": "markdown",
   "metadata": {
    "deletable": true,
    "editable": true
   },
   "source": [
    "## Where Is Your Software?\n",
    "\n",
    "\n",
    "![](img/where-is-your-software.png)\n",
    "\n",
    "\n",
    "<br/>\n",
    "<div class=\"alert alert-warning\">\n",
    "\n",
    "**WARNING**: Bad medical software can kill people. Suggested readings: [Therac-25 Accident](https://en.wikipedia.org/wiki/Therac-25), [Multidata Systems therapy failure](http://www.baselinemag.com/c/a/Projects-Processes/We-Did-Nothing-Wrong)\n",
    "</div>\n",
    "\n",
    "* If it seems to work, then it actually works? _Probably not_.\n",
    "* The devil is in the details, especially for complex algorithms.\n",
    "* We will do a crash course on testing in Python\n",
    "\n",
    "## Implement the right thing\n",
    "\n",
    "In a typical scenario, you are a junior programmer and your senior colleague ask you to write a function to perform some task, giving only an informal description:"
   ]
  },
  {
   "cell_type": "code",
   "execution_count": 2,
   "metadata": {
    "collapsed": false,
    "deletable": true,
    "editable": true
   },
   "outputs": [],
   "source": [
    "def even_numbers(n):\n",
    "    \"\"\"\n",
    "    Return a list of the first n even numbers \n",
    "    \n",
    "    Zero is considered to be the first even number.\n",
    "\n",
    "    >>> even_numbers(5)\n",
    "    [0,2,4,6,8]\n",
    "    \"\"\"    \n",
    "    raise Exception(\"TODO IMPLEMENT ME!\")"
   ]
  },
  {
   "cell_type": "markdown",
   "metadata": {
    "deletable": true,
    "editable": true
   },
   "source": [
    "In this case, if you run the function as it is, you are reminded to implement it:"
   ]
  },
  {
   "cell_type": "markdown",
   "metadata": {
    "deletable": true,
    "editable": true
   },
   "source": [
    "```python\n",
    ">>> even_numbers(5)\n",
    "```\n",
    "\n",
    "```\n",
    "---------------------------------------------------------------------------\n",
    "Exception                                 Traceback (most recent call last)\n",
    "<ipython-input-2-d2cbc915c576> in <module>()\n",
    "----> 1 even_numbers(5)\n",
    "\n",
    "<ipython-input-1-a20a4ea4b42a> in even_numbers(n)\n",
    "      8     [0,2,4,6,8]\n",
    "      9     \"\"\"    \n",
    "---> 10     raise Exception(\"TODO IMPLEMENT ME!\")\n",
    "\n",
    "Exception: TODO IMPLEMENT ME!\n",
    "\n",
    "```"
   ]
  },
  {
   "cell_type": "markdown",
   "metadata": {
    "deletable": true,
    "editable": true
   },
   "source": [
    "Why? The instruction \n",
    "```python\n",
    "raise Exception(\"TODO IMPLEMENT ME!\")\n",
    "```\n",
    "\n",
    "tells Python to immediatly stop execution, and signal an error to the caller of the method `even_number`. If there were commands right after `raise Exception(\"TODO IMPLMENT ME\")`, they would not be executed. Here, we are directly calling the function from the prompt, and we didn't tell Python how to handle the `Exception`, so Python just stopped and showed the error message given as parameter to the `Exception`\n"
   ]
  },
  {
   "cell_type": "markdown",
   "metadata": {
    "deletable": true,
    "editable": true
   },
   "source": [
    "\n",
    "<div class=\"alert alert-info\">\n",
    "\n",
    "**Spend time reading well the function text!**\n",
    "\n",
    "Always read very well function text and ask yourself questions! What is the supposed input? What should be the output? Is there any output to return at all, or should you instead modify _in-place_ a passed parameter (i.e. for example, when you sort a list)? Are there any edge cases, es what happens for `n=0`)? What about `n < 0` ?\n",
    "</div>\n",
    "\n",
    "Let's code a possible solution. As it often happens, first version may be buggy, in this case for example purposes we intentionally introduce a bug:"
   ]
  },
  {
   "cell_type": "code",
   "execution_count": 3,
   "metadata": {
    "collapsed": false,
    "deletable": true,
    "editable": true
   },
   "outputs": [],
   "source": [
    "def even_numbers(n):\n",
    "    \"\"\"\n",
    "    Return a list of the first n even numbers \n",
    "    \n",
    "    Zero is considered to be the first even number.\n",
    "\n",
    "    >>> even_numbers(5)\n",
    "    [0,2,4,6,8]\n",
    "    \"\"\"    \n",
    "    r = [2 * x for x in range(n)]\n",
    "    r[n // 2] = 3   # <-- evil bug, puts number '3' in the middle, and 3 is not even ..\n",
    "    return r"
   ]
  },
  {
   "cell_type": "markdown",
   "metadata": {
    "deletable": true,
    "editable": true
   },
   "source": [
    "Typically the first test we do is printing the output and do some 'visual inspection' of the result, in this case we find many numbers are correct but we might miss errors such as the wrong `3` in the middle:"
   ]
  },
  {
   "cell_type": "code",
   "execution_count": 4,
   "metadata": {
    "collapsed": false,
    "deletable": true,
    "editable": true
   },
   "outputs": [
    {
     "name": "stdout",
     "output_type": "stream",
     "text": [
      "[0, 2, 3, 6, 8]\n"
     ]
    }
   ],
   "source": [
    "print(even_numbers(5))"
   ]
  },
  {
   "cell_type": "markdown",
   "metadata": {
    "deletable": true,
    "editable": true
   },
   "source": [
    "Furthermore, if we enter commands a the prompt, each time we fix something in the code, we need to enter commands again to check everything is ok. This is inefficient, boring, and prone to errors. "
   ]
  },
  {
   "cell_type": "markdown",
   "metadata": {
    "deletable": true,
    "editable": true
   },
   "source": [
    "## Assertions\n",
    "\n",
    "To go beyond the dumb \"visual inspection\" testing, it's better to write some extra code to allow Python checking for us if the function actually returns what we expect, and throws an error otherwise. We can do so with `assert` command, which verifies if its argument is True. If it is not, it raises an `AssertionError` immediately stopping execution. \n",
    "\n",
    "Here we check the result of `even_numbers(5)` is actually the list of even numbers `[0,2,4,6,8]` we expect:"
   ]
  },
  {
   "cell_type": "markdown",
   "metadata": {
    "deletable": true,
    "editable": true
   },
   "source": [
    "```python\n",
    "assert even_numbers(5) == [0,2,4,6,8]\n",
    "```"
   ]
  },
  {
   "cell_type": "markdown",
   "metadata": {
    "deletable": true,
    "editable": true
   },
   "source": [
    "Since our code is faulty, `even_numbers` returns the wrong list `[0,2,3,6,8]` which is different from `[0,2,4,6,8]` so assertion fails showing `AssertionError`:"
   ]
  },
  {
   "cell_type": "markdown",
   "metadata": {
    "deletable": true,
    "editable": true
   },
   "source": [
    "```\n",
    "---------------------------------------------------------------------------\n",
    "AssertionError                            Traceback (most recent call last)\n",
    "<ipython-input-5-2363c9dca74d> in <module>()\n",
    "----> 1 assert even_numbers(5) == [0,2,4,6,8]\n",
    "\n",
    "AssertionError: \n",
    "```"
   ]
  },
  {
   "cell_type": "markdown",
   "metadata": {
    "deletable": true,
    "editable": true
   },
   "source": [
    "So if we modify code to fix bugs we can just launch the assert commands and have a quick feedback about possible errors. \n",
    "\n",
    "## Unittest\n",
    "\n",
    "`assert` can help for quick testing, but doesn't tell us exactly which is the wrong number in the list returned by `even_number(5)`. Luckily, Python offers us a better option, which is a complete testing framework called [unittest](https://docs.python.org/3/library/unittest.html). \n",
    "\n",
    "Let's give it a try. Suppose you have a file called `my-file.py` like this:"
   ]
  },
  {
   "cell_type": "code",
   "execution_count": 5,
   "metadata": {
    "collapsed": true,
    "deletable": true,
    "editable": true,
    "raw_mimetype": "text/x-python"
   },
   "outputs": [],
   "source": [
    "import unittest\n",
    "\n",
    "def even_numbers(n):\n",
    "    \"\"\"\n",
    "    Return a list of the first n even numbers \n",
    "    \n",
    "    Zero is considered to be the first even number.\n",
    "\n",
    "    >>> even_numbers(5)\n",
    "    [0,2,4,6,8]\n",
    "    \"\"\"    \n",
    "    r = [2 * x for x in range(n)]\n",
    "    r[n // 2] = 3   # <-- evil bug, puts number '3' in the middle\n",
    "    return r\n",
    "\n",
    "class MyTest(unittest.TestCase):\n",
    "\n",
    "    def test_long_list(self):\n",
    "        self.assertEqual(even_numbers(5),[0,2,4,6,8]) \n",
    "\n"
   ]
  },
  {
   "cell_type": "markdown",
   "metadata": {
    "deletable": true,
    "editable": true
   },
   "source": [
    "\n",
    "We won't explain what `class` mean ([for classes see the book chpater ](http://interactivepython.org/runestone/static/pythonds/Introduction/ObjectOrientedProgramminginPythonDefiningClasses.html)), the important thing to notice is the method definition:\n",
    "\n",
    "\n",
    "```python\n",
    "    def test_long_list(self):\n",
    "        self.assertEqual(even_numbers(5),[0,2,4,6,8]) \n",
    "\n",
    "```\n",
    "\n",
    "In particular:\n",
    "\n",
    "* method is declared like a function, and begins with `'test_'` word\n",
    "* method takes `self` as parameter\n",
    "* `self.assertEqual(even_numbers(5),[0,2,4,6,8]) ` executes the assertion. Other assertions could be `self.assertTrue(some_condition) or self.assertFalse(some_condition) `\n",
    "\n",
    "### Running tests\n",
    "\n",
    "<div class=\"alert alert-info\">\n",
    "\n",
    "To run the tests, enter the following command in the terminal: <br/>\n",
    "<br/>\n",
    "\n",
    "``` \n",
    "    python -m unittest my-file\n",
    "        \n",
    "```\n",
    "\n",
    "<div class=\"alert -alert-warning\">\n",
    "**!!!!!   WARNING**: In the call above, DON'T append the extension `.py` to `my-file`    !!!!!!\n",
    "<br/>\n",
    "**!!!!!   WARNING**: Still, on the hard-disk the file MUST be named with a `.py` at the end, like `my-file.py`!!!!!!\n",
    "\n",
    "</div>\n",
    "\n",
    "You should see an output like the following: "
   ]
  },
  {
   "cell_type": "code",
   "execution_count": 6,
   "metadata": {
    "collapsed": false,
    "deletable": true,
    "editable": true,
    "scrolled": true
   },
   "outputs": [
    {
     "name": "stderr",
     "output_type": "stream",
     "text": [
      "F\n",
      "======================================================================\n",
      "FAIL: test_long_list (__main__.MyTest)\n",
      "----------------------------------------------------------------------\n",
      "Traceback (most recent call last):\n",
      "  File \"<ipython-input-5-cf0baeef2e72>\", line 19, in test_long_list\n",
      "    self.assertEqual(even_numbers(5),[0,2,4,6,8])\n",
      "AssertionError: Lists differ: [0, 2, 3, 6, 8] != [0, 2, 4, 6, 8]\n",
      "\n",
      "First differing element 2:\n",
      "3\n",
      "4\n",
      "\n",
      "- [0, 2, 3, 6, 8]\n",
      "?        ^\n",
      "\n",
      "+ [0, 2, 4, 6, 8]\n",
      "?        ^\n",
      "\n",
      "\n",
      "----------------------------------------------------------------------\n",
      "Ran 1 test in 0.002s\n",
      "\n",
      "FAILED (failures=1)\n"
     ]
    }
   ],
   "source": [
    "jupman.show_run(MyTest)"
   ]
  },
  {
   "cell_type": "markdown",
   "metadata": {
    "deletable": true,
    "editable": true
   },
   "source": [
    "Now you can see a nice display of where the error is, exactly in the middle of the list!\n",
    "\n",
    "### When tests don't run\n",
    "\n",
    "\n",
    "When `-m unittest` does not work and you keep seeing absurd errors like Python not finding a module and you are getting desperate (especially because Python has `unittest` included _by default_, there is no need to install it! ), try to put the following code at the very end of the file you are editing: \n",
    "\n",
    "```python\n",
    "unittest.main()\n",
    "```\n",
    "\n",
    "Then run your file with just\n",
    "\n",
    "```bash\n",
    "python my-file.py\n",
    "```\n",
    "\n",
    "In this case it should REALLY work. If it still doesn't, call the Ghostbusters. Or, better, the IndentationBusters, you're likely having tabs mixed with spaces mixed with bad bad luck.\n",
    "\n",
    "\n",
    "### Adding tests\n",
    "\n",
    "How can we add (good) tests? Since best ones are usually short, it would be better starting small boundary cases. For example like `n=1` , which according to function documentation should produce a list containing zero:"
   ]
  },
  {
   "cell_type": "code",
   "execution_count": 7,
   "metadata": {
    "collapsed": false,
    "deletable": true,
    "editable": true
   },
   "outputs": [],
   "source": [
    "class MyTest(unittest.TestCase):\n",
    "\n",
    "    def test_one_element(self):\n",
    "        self.assertEqual(even_numbers(1),[0])\n",
    "        \n",
    "    def test_long_list(self):\n",
    "        self.assertEqual(even_numbers(5),[0,2,4,6,8]) \n",
    "        \n",
    "        "
   ]
  },
  {
   "cell_type": "markdown",
   "metadata": {
    "deletable": true,
    "editable": true
   },
   "source": [
    "Let's call again the command: \n",
    "\n",
    "```bash\n",
    "python -m unittest my-file\n",
    "```"
   ]
  },
  {
   "cell_type": "code",
   "execution_count": 8,
   "metadata": {
    "collapsed": false,
    "deletable": true,
    "editable": true
   },
   "outputs": [
    {
     "name": "stderr",
     "output_type": "stream",
     "text": [
      "FF\n",
      "======================================================================\n",
      "FAIL: test_long_list (__main__.MyTest)\n",
      "----------------------------------------------------------------------\n",
      "Traceback (most recent call last):\n",
      "  File \"<ipython-input-7-ee61bb2dd25a>\", line 7, in test_long_list\n",
      "    self.assertEqual(even_numbers(5),[0,2,4,6,8])\n",
      "AssertionError: Lists differ: [0, 2, 3, 6, 8] != [0, 2, 4, 6, 8]\n",
      "\n",
      "First differing element 2:\n",
      "3\n",
      "4\n",
      "\n",
      "- [0, 2, 3, 6, 8]\n",
      "?        ^\n",
      "\n",
      "+ [0, 2, 4, 6, 8]\n",
      "?        ^\n",
      "\n",
      "\n",
      "======================================================================\n",
      "FAIL: test_one_element (__main__.MyTest)\n",
      "----------------------------------------------------------------------\n",
      "Traceback (most recent call last):\n",
      "  File \"<ipython-input-7-ee61bb2dd25a>\", line 4, in test_one_element\n",
      "    self.assertEqual(even_numbers(1),[0])\n",
      "AssertionError: Lists differ: [3] != [0]\n",
      "\n",
      "First differing element 0:\n",
      "3\n",
      "0\n",
      "\n",
      "- [3]\n",
      "+ [0]\n",
      "\n",
      "----------------------------------------------------------------------\n",
      "Ran 2 tests in 0.003s\n",
      "\n",
      "FAILED (failures=2)\n"
     ]
    }
   ],
   "source": [
    "jupman.show_run(MyTest)"
   ]
  },
  {
   "cell_type": "markdown",
   "metadata": {
    "deletable": true,
    "editable": true
   },
   "source": [
    "From the tests we can now see there is clearly something wrong with the number 3 that keeps popping up, making both tests fail. You can see immediately which tests have failed by looking at the first two `FF` at the top of the output. Let's fix the code by removing the buggy line:"
   ]
  },
  {
   "cell_type": "code",
   "execution_count": 9,
   "metadata": {
    "collapsed": false,
    "deletable": true,
    "editable": true
   },
   "outputs": [],
   "source": [
    "def even_numbers(n):\n",
    "    \"\"\"\n",
    "    Return a list of the first n even numbers \n",
    "    \n",
    "    Zero is considered to be the first even number.\n",
    "\n",
    "    >>> even_numbers(5)\n",
    "    [0,2,4,6,8]\n",
    "    \"\"\"    \n",
    "    r = [2 * x for x in range(n)]\n",
    "    # NOW WE COMMENTED THE BUGGY LINE  r[n // 2] = 3   # <-- evil bug, puts number '3' in the middle\n",
    "    return r\n"
   ]
  },
  {
   "cell_type": "markdown",
   "metadata": {
    "deletable": true,
    "editable": true
   },
   "source": [
    "And call yet again the command: \n",
    "\n",
    "```bash\n",
    "python -m unittest my-file\n",
    "```"
   ]
  },
  {
   "cell_type": "code",
   "execution_count": 10,
   "metadata": {
    "collapsed": false,
    "deletable": true,
    "editable": true
   },
   "outputs": [
    {
     "name": "stderr",
     "output_type": "stream",
     "text": [
      "..\n",
      "----------------------------------------------------------------------\n",
      "Ran 2 tests in 0.003s\n",
      "\n",
      "OK\n"
     ]
    }
   ],
   "source": [
    "jupman.show_run(MyTest)"
   ]
  },
  {
   "cell_type": "markdown",
   "metadata": {
    "deletable": true,
    "editable": true
   },
   "source": [
    "Wonderful, all the two tests have passed and we got rid of the bug. \n",
    "\n",
    "### Exercises\n",
    "\n",
    "1. Think about other boundary cases, and try to add corresponding tests. _Hint: Can we ever have an empty list? Which values can assume `n`?_\n",
    "2. What difference there is between the following two test classes? Which one is better for testing?\n",
    "\n",
    "```python\n",
    "class MyTest(unittest.TestCase):\n",
    "\n",
    "    def test_one_element(self):\n",
    "        self.assertEqual(even_numbers(1),[0])\n",
    "        \n",
    "    def test_long_list(self):\n",
    "        self.assertEqual(even_numbers(5),[0,2,4,6,8]) \n",
    "        \n",
    "```\n",
    "\n",
    "and\n",
    " \n",
    "```python\n",
    "class MyTest(unittest.TestCase):\n",
    "\n",
    "    def test_stuff(self):\n",
    "        self.assertEqual(even_numbers(1),[0])\n",
    "        self.assertEqual(even_numbers(5),[0,2,4,6,8])               \n",
    "        \n",
    "```\n",
    "\n"
   ]
  }
 ],
 "metadata": {
  "celltoolbar": "Edit Metadata",
  "kernelspec": {
   "display_name": "Python 3",
   "language": "python",
   "name": "python3"
  },
  "language_info": {
   "codemirror_mode": {
    "name": "ipython",
    "version": 3
   },
   "file_extension": ".py",
   "mimetype": "text/x-python",
   "name": "python",
   "nbconvert_exporter": "python",
   "pygments_lexer": "ipython3",
   "version": "3.5.2"
  }
 },
 "nbformat": 4,
 "nbformat_minor": 1
}
