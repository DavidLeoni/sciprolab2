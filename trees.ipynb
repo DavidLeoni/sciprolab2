{
 "cells": [
  {
   "cell_type": "code",
   "execution_count": 1,
   "metadata": {
    "collapsed": false,
    "deletable": true,
    "editable": true,
    "nbsphinx": "hidden"
   },
   "outputs": [
    {
     "data": {
      "text/html": [
       "<style>\n",
       "\n",
       "    #jupman-nav {\n",
       "        position: fixed;\n",
       "        top: 10px; \n",
       "        left: 5px; \n",
       "        background: white;\n",
       "        width: 200px; \n",
       "        padding: 10px; \n",
       "        z-index: 10;\n",
       "    }\n",
       "\n",
       "    /* style=\"background: rgba(255, 255, 255, 0);\" class=\"unstyled\" */\n",
       "  \n",
       "    #jupman-toc {\n",
       "        position: fixed;\n",
       "        top: 100px; \n",
       "        left: -55px; \n",
       "        background: rgba(255, 255, 255, 0);\n",
       "        \n",
       "        height: 80%;\n",
       "        width: 200px; \n",
       "        padding: 20px; \n",
       "        z-index: 10;\n",
       "        overflow-y: scroll;        \n",
       "            /* font-size: 50%; */\n",
       "    }\n",
       "\n",
       "    \n",
       "    \n",
       "    code {\n",
       "        background-color:rgb(245, 249, 249) !important;\n",
       "    }\n",
       "    \n",
       "    \n",
       "    .jupman-nav-item {\n",
       "        font-weight:bold;\n",
       "        font-size:120%  \n",
       "    }\n",
       "    \n",
       "    .jupman-chapter-link {\n",
       "        font-size:150%;\n",
       "        margin-right:15px;        \n",
       "    }\n",
       "    \n",
       "    .jupman-chapter-link a {\n",
       "        text-decoration: none;\n",
       "    }    \n",
       "    \n",
       "    .jupman-title {\n",
       "        font-size:250%; \n",
       "        font-weight:bold        \n",
       "    }    \n",
       "        \n",
       "    .jupman-warn {    \n",
       "        background-color: #fcf2f2;        \n",
       "        border-left: 5px solid #dfb5b4;\n",
       "        padding: 1.5em;\n",
       "        font-weight:bold;\n",
       "        margin-bottom:10px;\n",
       "    }\n",
       "\n",
       "    .jupman-question {    \n",
       "        background-color: rgb(251, 231, 250);\n",
       "        border-left: 5px solid rgb(189, 151, 184);\n",
       "        padding: 1.5em;\n",
       "        font-weight:bold;\n",
       "        margin-bottom:10px;\n",
       "    }\n",
       "        \n",
       "    \n",
       "    .jupman-important {\n",
       "        background-color: rgba(255, 238, 0, 0.31);\n",
       "        border-left: 5px solid rgba(205, 208, 0, 1.0);\n",
       "        color: #000;        \n",
       "        padding: 1.5em;\n",
       "        font-weight:bold;\n",
       "        margin-bottom:10px;\n",
       "    }\n",
       "    \n",
       "    \n",
       "    #jupman-toc ul {                                                                                                                                                                           \n",
       "        list-style-type: none;                                                                                                                                                                 \n",
       "        margin-left: 5px;\n",
       "    }\n",
       "    \n",
       "    #jupman-toc li {        \n",
       "         padding-left: 3px;\n",
       "    }    \n",
       "    \n",
       "    #jupman-toc .h1 {\n",
       "        font-size:110%; \n",
       "        \n",
       "    }\n",
       "    \n",
       "    #jupman-toc .h2 {\n",
       "        font-size:100%; \n",
       "        padding-left:15px;\n",
       "    }\n",
       "\n",
       "    #jupman-toc .h3 {\n",
       "        font-size:100%; \n",
       "        padding-left:25px;\n",
       "    }\n",
       "    \n",
       "    \n",
       "    \n",
       "    #notebook-container {\n",
       "        box-shadow : none;\n",
       "\t-web-kit-box-shadow: none;\n",
       "    }\n",
       "    \n",
       "\n",
       "    #jupman-toc .toc-active {\n",
       "        background: rgba(168, 254, 255, 0.32);\n",
       "    }\n",
       "\n",
       "    .jupman-solution {       \n",
       "        padding:1px;\n",
       "    }\n",
       "\n",
       "    .jupman-solution-header {\n",
       "        display:none;\n",
       "        color: blue;\n",
       "        text-decoration: underline;\n",
       "        cursor: pointer;\n",
       "    }\n",
       " </style>\n",
       "\n",
       "<script>\n",
       "var JUPMAN_IN_JUPYTER = true;\n",
       "/*!\n",
       " * toc - jQuery Table of Contents Plugin\n",
       " * v0.3.2\n",
       " * http://projects.jga.me/toc/\n",
       " * copyright Greg Allen 2014\n",
       " * MIT License\n",
       "*/\n",
       "!function(a){a.fn.smoothScroller=function(b){b=a.extend({},a.fn.smoothScroller.defaults,b);var c=a(this);return a(b.scrollEl).animate({scrollTop:c.offset().top-a(b.scrollEl).offset().top-b.offset},b.speed,b.ease,function(){var a=c.attr(\"id\");a.length&&(history.pushState?history.pushState(null,null,\"#\"+a):document.location.hash=a),c.trigger(\"smoothScrollerComplete\")}),this},a.fn.smoothScroller.defaults={speed:400,ease:\"swing\",scrollEl:\"body,html\",offset:0},a(\"body\").on(\"click\",\"[data-smoothscroller]\",function(b){b.preventDefault();var c=a(this).attr(\"href\");0===c.indexOf(\"#\")&&a(c).smoothScroller()})}(jQuery),function(a){var b={};a.fn.toc=function(b){var c,d=this,e=a.extend({},jQuery.fn.toc.defaults,b),f=a(e.container),g=a(e.selectors,f),h=[],i=e.activeClass,j=function(b,c){if(e.smoothScrolling&&\"function\"==typeof e.smoothScrolling){b.preventDefault();var f=a(b.target).attr(\"href\");e.smoothScrolling(f,e,c)}a(\"li\",d).removeClass(i),a(b.target).parent().addClass(i)},k=function(){c&&clearTimeout(c),c=setTimeout(function(){for(var b,c=a(window).scrollTop(),f=Number.MAX_VALUE,g=0,j=0,k=h.length;k>j;j++){var l=Math.abs(h[j]-c);f>l&&(g=j,f=l)}a(\"li\",d).removeClass(i),b=a(\"li:eq(\"+g+\")\",d).addClass(i),e.onHighlight(b)},50)};return e.highlightOnScroll&&(a(window).bind(\"scroll\",k),k()),this.each(function(){var b=a(this),c=a(e.listType);g.each(function(d,f){var g=a(f);h.push(g.offset().top-e.highlightOffset);var i=e.anchorName(d,f,e.prefix);if(f.id!==i){a(\"<span/>\").attr(\"id\",i).insertBefore(g)}var l=a(\"<a/>\").text(e.headerText(d,f,g)).attr(\"href\",\"#\"+i).bind(\"click\",function(c){a(window).unbind(\"scroll\",k),j(c,function(){a(window).bind(\"scroll\",k)}),b.trigger(\"selected\",a(this).attr(\"href\"))}),m=a(\"<li/>\").addClass(e.itemClass(d,f,g,e.prefix)).append(l);c.append(m)}),b.html(c)})},jQuery.fn.toc.defaults={container:\"body\",listType:\"<ul/>\",selectors:\"h1,h2,h3\",smoothScrolling:function(b,c,d){a(b).smoothScroller({offset:c.scrollToOffset}).on(\"smoothScrollerComplete\",function(){d()})},scrollToOffset:0,prefix:\"toc\",activeClass:\"toc-active\",onHighlight:function(){},highlightOnScroll:!0,highlightOffset:100,anchorName:function(c,d,e){if(d.id.length)return d.id;var f=a(d).text().replace(/[^a-z0-9]/gi,\" \").replace(/\\s+/g,\"-\").toLowerCase();if(b[f]){for(var g=2;b[f+g];)g++;f=f+\"-\"+g}return b[f]=!0,e+\"-\"+f},headerText:function(a,b,c){return c.text()},itemClass:function(a,b,c,d){return d+\"-\"+c[0].tagName.toLowerCase()}}}(jQuery);\n",
       "\n",
       "/*\n",
       " * JUPYTER MANAGER JavaScript https://github.com/DavidLeoni/jupman \n",
       " * \n",
       " */\n",
       "\n",
       "function toggleVisibility(what){\n",
       "        var e = document.getElementById(what);\n",
       "        if(e.style.display == 'block')\n",
       "          e.style.display = 'none';\n",
       "        else\n",
       "          e.style.display = 'block';\n",
       "    };\n",
       "    \n",
       "\n",
       "function showthis(url) {\n",
       "    window.open(url, \"pres\", \"toolbar=yes,scrollbars=yes,resizable=yes,top=10,left=400,width=500,height=500\");\n",
       "    return(false);\n",
       "}\n",
       "\n",
       "var jupman = {\n",
       "    \n",
       "    isReduced : function(){\n",
       "        return $(window).width() < 924;\n",
       "    },\n",
       "    hoverToc : function(){\n",
       "        return $('#jupman-toc:hover').length != 0;\n",
       "    },\n",
       "    resize : function(){\n",
       "        if (jupman.isReduced()){\n",
       "            $(\"#jupman-toc\").hide();\n",
       "        } else {\n",
       "            $(\"#jupman-toc\").show();\n",
       "            $(\"#jupman-toc\").css(\"background\",\"rgba(255, 255, 255, 0)\");\n",
       "            \n",
       "            tocParams = {\n",
       "                \n",
       "                'selectors': 'h1,h2,h3', //elements to use as headings\n",
       "                'container': 'body', //element to find all selectors in\n",
       "                'smoothScrolling': true, //enable or disable smooth scrolling on click\n",
       "                 //doesn't work  'prefix': 'jupman-toc', //prefix for anchor tags and class names\n",
       "                //'onHighlight': function(el) {}, //called when a new section is highlighted \n",
       "                'highlightOnScroll': true, //add class to heading that is currently in focus\n",
       "                'highlightOffset': 100, //offset to trigger the next headline\n",
       "                'anchorName': function(i, heading, prefix) { //custom function for anchor name\n",
       "                    return prefix+i;\n",
       "                },\n",
       "                'headerText': function(i, heading, $heading) { //custom function building the header-item text                  \n",
       "                    return $heading.text().replace(\"¶\",\"\");\n",
       "                },\n",
       "                'itemClass': function(i, heading, $heading, prefix) { // custom function for item class\n",
       "                    return $heading[0].tagName.toLowerCase();\n",
       "                }                \n",
       "            }\n",
       "            \n",
       "            $('#jupman-toc').toc(tocParams);\n",
       "        }\n",
       "    },\n",
       "    /**\n",
       "        Hides cell input\n",
       "        \n",
       "        Renamed in 0.19\n",
       "    */    \n",
       "    hideCell : function(prefixOrRegex){\n",
       "        \n",
       "        $('.border-box-sizing .code_cell pre').filter(function() { \n",
       "                var t = $(this).text();\n",
       "                if (typeof prefixOrRegex == \"string\"){\n",
       "                    return t.indexOf(prefixOrRegex) === 0;\n",
       "                } else if ( prefixOrRegex instanceof RegExp){\n",
       "                    return t.match(prefixOrRegex);\n",
       "                } else {\n",
       "                    console.error(\"Invalid argument:\", prefixOrRegex);\n",
       "                    throw new Error(\"Invalid argument!\");\n",
       "                }\n",
       "            }).parents('div .cell .input').hide();        \n",
       "    },\n",
       "    /**\n",
       "        Hides the cell input AND output.\n",
       "        \n",
       "        @since 0.19\n",
       "    */\n",
       "    hideCellAll : function(prefix){        \n",
       "        $('.border-box-sizing .code_cell pre').filter(function() { \n",
       "                return $(this).text().indexOf(prefix) === 0; \n",
       "            }).parents('div .cell ').hide();        \n",
       "    },\n",
       "    \n",
       "    toggleVisibility: function(what){\n",
       "        var e = document.getElementById(what);\n",
       "        if(e.style.display == 'block')\n",
       "          e.style.display = 'none';\n",
       "        else\n",
       "          e.style.display = 'block';\n",
       "    },\n",
       "    \n",
       "    /**\n",
       "     *  Code common to both jupman in jupyter and ReadTheDocs\n",
       "    */\n",
       "    initCommon : function(){\n",
       "        \n",
       "        $(\".jupman-solution-header\").remove();\n",
       "        span = $('<div>');\n",
       "        span.addClass('jupman-solution-header');\n",
       "        span.text('Show/hide solution');\n",
       "        \n",
       "        span.insertBefore(\".jupman-solution\");\n",
       "        \n",
       "        \n",
       "        $(\".jupman-solution\").hide();\n",
       "        $(\".jupman-solution-header\").show();\n",
       "\n",
       "        $('.jupman-solution-header')\n",
       "            .off('click')\n",
       "            .click(function(){\n",
       "                \n",
       "                var uls = $(this).nextAll(\".jupman-solution\");             \n",
       "                var sibling = uls.eq(0);\n",
       "                          \n",
       "                sibling.slideToggle();        \n",
       "                ev.preventDefault();\n",
       "                ev.stopPropagation();\n",
       "        });\n",
       "\n",
       "    },\n",
       "\n",
       "    /**\n",
       "     *   Jupyter only instructions - doesn't run on ReadTheDocs\n",
       "     */\n",
       "    initJupyter : function(){\n",
       "        \n",
       "       var toc = $(\"<div>\").attr(\"id\", \"jupman-toc\");              \n",
       "       var indexLink = $(\"<a>\")\n",
       "                        .addClass(\"jupman-nav-item\")\n",
       "                        .attr(\"href\",\"index.html#Chapters\")\n",
       "                        .text(\"jupman\");\n",
       "       \n",
       "       var candidateTitleText = $(\".jupman-title\").text();              \n",
       "                                  \n",
       "                    \n",
       "       \n",
       "       var nav = $(\"<div>\")\n",
       "                     .attr(\"id\", \"jupman-nav\")\n",
       "                    .append(indexLink);       \n",
       "       \n",
       "       if (candidateTitleText.length !== 0){\n",
       "\n",
       "           var title = $(\"<span>\")\n",
       "                    .addClass(\"jupman-nav-item\")\n",
       "                    .css(\"padding-left\",\"8px\")\n",
       "                    .text(candidateTitleText);\n",
       "            nav.append(\"<br>\")\n",
       "                .append(\"<br>\")\n",
       "                .append(title);                                \n",
       "        }\n",
       "          \n",
       "        \n",
       "        \n",
       "       // TODO THIS HIDE STUFF DOES NOT WORK ANYMORE AFTER PORTING TO NBSPHINX \n",
       "       // WE SHOULD USE \n",
       "       // \n",
       "       jupman.hideCell(\"%%HTML\");\n",
       "       jupman.hideCell(\"import jupman\");   \n",
       "       \n",
       "        // TODO this is a bit too hacky   \n",
       "       jupman.hideCell(/from exercise(.+)_solution import \\*/)\n",
       "       \n",
       "       jupman.hideCell(\"jupman.init()\"); \n",
       "       jupman.hideCell(\"jupman.show_run(\");\n",
       "       jupman.hideCell(\"nxpd.draw(\");\n",
       "       jupman.hideCellAll(\"jupman.run(\"); \n",
       "              \n",
       "       if ($(\"#jupman-toc\").length === 0){\n",
       "           $(\"body\").append(toc);       \n",
       "       } else {\n",
       "           $(\"#jupman-toc\").replaceWith(toc);\n",
       "       }\n",
       "       \n",
       "       if ($(\"#jupman-nav\").length === 0){\n",
       "           $(\"body\").append(nav);       \n",
       "       } else {\n",
       "           $(\"#jupman-nav\").replaceWith(nav);\n",
       "       }              \n",
       "\n",
       "       \n",
       "        $( window ).resize(function() {\n",
       "            jupman.resize();\n",
       "        });\n",
       "\n",
       "\n",
       "        $(\"body\").on(\"mousemove\",function(event) {\n",
       "            if (jupman.isReduced()){\n",
       "                if (event.pageX < 50) {            \n",
       "                     $(\"#jupman-toc\").show(); \n",
       "                    $(\"#jupman-toc\").css(\"background\",\"rgba(255, 255, 255, 1.0)\");\n",
       "                } else {\n",
       "\n",
       "                    if (jupman.hoverToc()) {                    \n",
       "                    } else {\n",
       "                        $(\"#jupman-toc\").hide();                        \n",
       "                    }\n",
       "\n",
       "        /*            if ($(\"#jupman-toc\").is(\":visible\")){\n",
       "                        if (jupman.hoverToc()) {                    \n",
       "                        } else {\n",
       "                            $(\"#jupman-toc\").hide();                        \n",
       "                        }\n",
       "                    } else {\n",
       "                        if (jupman.hoverToc())\n",
       "                          show\n",
       "                      } else {\n",
       "                        $(\"#jupman-toc\").hide();                        \n",
       "                       }                 \n",
       "                    }\n",
       "          */     \n",
       "                }\n",
       "            }\n",
       "        });\n",
       " \n",
       "        \n",
       "       jupman.resize();\n",
       "       console.log(\"Finished initializing jupman.js in Jupyter Notebook.\")\n",
       "    },\n",
       "    \n",
       "    /**\n",
       "    * RTD only instructions\n",
       "    */\n",
       "    initReadTheDocs : function(){  \n",
       "        \n",
       "        console.log(\"Finished initializing jupman.js in ReadTheDocs\")        \n",
       "    },\n",
       "    \n",
       "    /**\n",
       "     * Initializes jupman.js\n",
       "     */\n",
       "    init : function(){\n",
       "\n",
       "       jupman.initCommon();\n",
       "        \n",
       "       if (typeof JUPMAN_IN_JUPYTER === \"undefined\" || !JUPMAN_IN_JUPYTER ){            \n",
       "           jupman.initReadTheDocs();\n",
       "       } else {\n",
       "           jupman.initJupyter();\n",
       "       }\n",
       "        \n",
       "    }\n",
       "}\n",
       "\n",
       "$(document).ready(jupman.init);\n",
       "\n",
       "</script>\n"
      ],
      "text/plain": [
       "<IPython.core.display.HTML object>"
      ]
     },
     "execution_count": 1,
     "metadata": {},
     "output_type": "execute_result"
    }
   ],
   "source": [
    "import jupman\n",
    "jupman.init('exercises/trees')"
   ]
  },
  {
   "cell_type": "markdown",
   "metadata": {
    "collapsed": true,
    "deletable": true,
    "editable": true
   },
   "source": [
    "\n",
    "# Chapter 4. Trees \n",
    "\n",
    "## Introduction\n",
    "\n",
    "**Exercise files** (before editing read whole introduction section 0.x): \n",
    "\n",
    "* [download zip](_static/trees-exercises.zip)\n",
    "* [browse online](https://github.com/DavidLeoni/sciprolab2/tree/master/exercises/trees)\n",
    "\n",
    "\n",
    "### 0.1) Theory\n",
    "\n",
    "See\n",
    "\n",
    "* Alberto Montresor [theory here](http://disi.unitn.it/~montreso/sp/slides/B03-alberi.pdf) \n",
    "* [Trees on the book](https://interactivepython.org/runestone/static/pythonds/Trees/toctree.html)\n",
    "    * In particular, [Vocabulary and definitions](https://interactivepython.org/runestone/static/pythonds/Trees/VocabularyandDefinitions.html)"
   ]
  },
  {
   "cell_type": "markdown",
   "metadata": {
    "collapsed": true,
    "deletable": true,
    "editable": true
   },
   "source": [
    "#### Generic tree theory\n",
    "\n",
    "\n",
    "See Alberto Montresor  [Generic Tree theory](http://disi.unitn.it/~montreso/sp/slides/B03-alberi.pdf#Outline0.3)\n",
    "\n",
    "![](img/generic-tree-labeled.png)\n",
    "\n",
    "\n"
   ]
  },
  {
   "cell_type": "markdown",
   "metadata": {
    "deletable": true,
    "editable": true
   },
   "source": [
    "In this worksheet we are going to provide an implementation of a `GenericTree` class:\n",
    "\n",
    "* Why `GenericTree` ? Because many object hierarchies in real life tend to look like this, in one form or another \n",
    "* Differently from the `LinkedList`, which actually had two classes `Node` and `LinkedList` that was pointing to the first node, in this case we just have one `GenericTree` class. So to grow a tree like the above one in the picture, for each of the boxes that you see we will need to create one instance of `GenericTree` and link it to the other instances.\n",
    "* Ordinary simple trees just hold pointers to the children. In this case, we have an enriched tree which holds ponters also up to the  _parent_ and on the right to the _siblings_. Whenever we are going to manipulate the tree, we need to take good care of updating these pointers.\n",
    "\n"
   ]
  },
  {
   "cell_type": "markdown",
   "metadata": {
    "collapsed": false,
    "deletable": true,
    "editable": true
   },
   "source": [
    "\n",
    "\n",
    "<div class=\"alert alert-info\">\n",
    "\n",
    "    **ROOT NODE**: In this context, we call a node _root_ \n",
    "            if has no incoming edges _and _ it has no parent nor sibling\n",
    "</div>\n",
    "\n",
    "<div class=\"alert alert-info\">\n",
    "\n",
    "    **DETACHING A NODE**: In this context, when we _detach_ a node from a tree, \n",
    "    the node  becomes the _root_ of a new tree, which means it will have no \n",
    "    link anymore with the tree it was in.\n",
    "</div>"
   ]
  },
  {
   "cell_type": "markdown",
   "metadata": {
    "deletable": true,
    "editable": true
   },
   "source": [
    "### 0.2) Code skeleton\n",
    "\n",
    "First off, download [the exercises zip](_static/trees-exercises.zip) and look at the files:\n",
    "\n",
    "* `tree.py`    : the exercise to edit\n",
    "* `algolab.py`: contains utility functions like `gt` (see later for description) and parent test `GenericTreeTest`. Do not modify this file. \n",
    "* `tree_test.py`: the tests to run. Do not modify this file.\n",
    "\n",
    "\n",
    "Before starting to implement methods in `GenericTree` class, read all the following sub sections (starting with '0.x')\n",
    "\n",
    "\n",
    " "
   ]
  },
  {
   "cell_type": "markdown",
   "metadata": {
    "deletable": true,
    "editable": true
   },
   "source": [
    "\n",
    "### 0.3) Building trees\n",
    "\n",
    "Let's learn how to build `GenericTree`. For these trials, feel free to launch a Python 3 interpreter and load this module: "
   ]
  },
  {
   "cell_type": "code",
   "execution_count": 2,
   "metadata": {
    "collapsed": true,
    "deletable": true,
    "editable": true
   },
   "outputs": [],
   "source": [
    "from tree_solution import *"
   ]
  },
  {
   "cell_type": "markdown",
   "metadata": {
    "deletable": true,
    "editable": true
   },
   "source": [
    "\n",
    "### 0.3.1) Pointers\n",
    "\n",
    "A `GenericTree` class holds 3 pointers that link it to the other nodes: `_child`, `_sibling` and `_parent`.\n",
    "It also holds a value `data` which is provided by the user to store arbitrary data (could be ints, strings, lists, even other trees, we don't care):\n",
    "\n",
    "```python\n",
    "\n",
    "class GenericTree:\n",
    "    \n",
    "    def __init__(self, data):\n",
    "        self._data = data\n",
    "        self._child = None\n",
    "        self._sibling = None\n",
    "        self._parent = None   \n",
    "```\n",
    "\n",
    "To create a tree of one node, just call the constructor passing whatever you want like this:\n"
   ]
  },
  {
   "cell_type": "code",
   "execution_count": 3,
   "metadata": {
    "collapsed": false,
    "deletable": true,
    "editable": true
   },
   "outputs": [],
   "source": [
    "tblah = GenericTree(\"blah\")\n",
    "tn = GenericTree(5)"
   ]
  },
  {
   "cell_type": "markdown",
   "metadata": {
    "deletable": true,
    "editable": true
   },
   "source": [
    "\n",
    "Note that with the provided constructor you can't pass children.\n",
    "\n",
    "### 0.3.2) Building with `insert_child`\n",
    "\n",
    "To grow a `GenericTree`, as basic building block you will have to implement `insert_child`:\n",
    "\n",
    "```python\n",
    "    def insert_child(self, new_child):        \n",
    "        \"\"\" Inserts new_child at the beginning of the children sequence. \"\"\"               \n",
    "```\n",
    "\n",
    "You can call it like this:"
   ]
  },
  {
   "cell_type": "code",
   "execution_count": 4,
   "metadata": {
    "collapsed": false,
    "deletable": true,
    "editable": true
   },
   "outputs": [
    {
     "name": "stdout",
     "output_type": "stream",
     "text": [
      "a\n"
     ]
    }
   ],
   "source": [
    "\n",
    "ta = GenericTree('a')\n",
    "print(ta)   # 'a' is the root\n"
   ]
  },
  {
   "cell_type": "code",
   "execution_count": 5,
   "metadata": {
    "collapsed": false,
    "deletable": true,
    "editable": true
   },
   "outputs": [
    {
     "name": "stdout",
     "output_type": "stream",
     "text": [
      "a\n",
      "└b\n"
     ]
    }
   ],
   "source": [
    "   \n",
    "tb = GenericTree('b')\n",
    "ta.insert_child(tb)\n",
    "print(ta)"
   ]
  },
  {
   "cell_type": "markdown",
   "metadata": {
    "deletable": true,
    "editable": true
   },
   "source": [
    "```\n",
    "a     'a' is the root \n",
    "└b    'b' is the child . The '└' means just that it is also the last child of the siblings sequence\n",
    "```"
   ]
  },
  {
   "cell_type": "code",
   "execution_count": 6,
   "metadata": {
    "collapsed": false,
    "deletable": true,
    "editable": true
   },
   "outputs": [
    {
     "name": "stdout",
     "output_type": "stream",
     "text": [
      "a\n",
      "├c\n",
      "└b\n"
     ]
    }
   ],
   "source": [
    "tc = GenericTree('c')\n",
    "ta.insert_child(tc)\n",
    "print(ta)"
   ]
  },
  {
   "cell_type": "markdown",
   "metadata": {
    "deletable": true,
    "editable": true
   },
   "source": [
    "```\n",
    "a          # 'a' is the root \n",
    "├c         # 'c' is inserted as the first child (would be shown on the left in the graph image)\n",
    "└b         # 'b' is now the next sibling of c  The '\\' means just that it \n",
    "           #  is also the last child of the siblings sequence\n",
    "```\n"
   ]
  },
  {
   "cell_type": "code",
   "execution_count": 7,
   "metadata": {
    "collapsed": false,
    "deletable": true,
    "editable": true
   },
   "outputs": [
    {
     "name": "stdout",
     "output_type": "stream",
     "text": [
      "a\n",
      "├c\n",
      "│└d\n",
      "└b\n"
     ]
    }
   ],
   "source": [
    "td = GenericTree('d')\n",
    "tc.insert_child(td)\n",
    "print(ta)"
   ]
  },
  {
   "cell_type": "markdown",
   "metadata": {
    "deletable": true,
    "editable": true
   },
   "source": [
    "```\n",
    "a         # 'a' is the root \n",
    "├c        # 'c' is the first child of 'a'\n",
    "|└d       # 'd' is the first child of 'c'\n",
    "└b        # 'b' is the next sibling of c\n",
    "```"
   ]
  },
  {
   "cell_type": "markdown",
   "metadata": {
    "deletable": true,
    "editable": true
   },
   "source": [
    "\n",
    "### 0.3.3) Building with `gt`\n",
    "\n",
    "If you need to test your data structure, we provide you with this handy function `gt` in `algolab` module that allows to easily construct trees from other trees.\n",
    "\n",
    "<br/>\n",
    "\n",
    "<div class=\"alert alert-warning\">\n",
    "\n",
    "**WARNING:** DO NOT USE `gt` inside your implementation code !!!! `gt` is just meant for testing.\n",
    "</div>\n",
    "\n",
    "```python\n",
    "def gt(*args):\n",
    "    \"\"\" Shorthand function that returns a GenericTree containing the provided \n",
    "        data and children. First parameter is the data, the following ones are the children.\n",
    "```"
   ]
  },
  {
   "cell_type": "code",
   "execution_count": 8,
   "metadata": {
    "collapsed": false,
    "deletable": true,
    "editable": true
   },
   "outputs": [
    {
     "name": "stdout",
     "output_type": "stream",
     "text": [
      "a\n"
     ]
    }
   ],
   "source": [
    "# first remember to import it from algolab:\n",
    "\n",
    "from algolab import gt\n",
    "\n",
    "# NOTE: this function is _not_ a class method, you can directly invoke it like this:\n",
    "print(gt('a'))"
   ]
  },
  {
   "cell_type": "code",
   "execution_count": 9,
   "metadata": {
    "collapsed": false,
    "deletable": true,
    "editable": true
   },
   "outputs": [
    {
     "name": "stdout",
     "output_type": "stream",
     "text": [
      "a\n",
      "├b\n",
      "└c\n"
     ]
    }
   ],
   "source": [
    "# NOTE: the external call gt('a', ......... )  INCLUDES gt('b') and gt('c') in the parameters !\n",
    "\n",
    "print(gt('a', gt('b'), gt('c')))\n"
   ]
  },
  {
   "cell_type": "code",
   "execution_count": null,
   "metadata": {
    "collapsed": true,
    "deletable": true,
    "editable": true
   },
   "outputs": [],
   "source": []
  },
  {
   "cell_type": "markdown",
   "metadata": {
    "deletable": true,
    "editable": true
   },
   "source": [
    "### 0.4) Displaying trees side by side with `str_trees`\n",
    "\n",
    "If you have a couple of trees, like the actual one you get from your method calls and the one you expect, it might be useful to display them side by side with the `str_trees` method in `algolab` module:"
   ]
  },
  {
   "cell_type": "code",
   "execution_count": 10,
   "metadata": {
    "collapsed": false,
    "deletable": true,
    "editable": true
   },
   "outputs": [
    {
     "name": "stdout",
     "output_type": "stream",
     "text": [
      "ACTUAL    EXPECTED\n",
      "a         x\n",
      "└b        ├y\n",
      "          └z\n",
      "\n"
     ]
    }
   ],
   "source": [
    "# first remember to import it:\n",
    "\n",
    "from algolab import str_trees\n",
    "\n",
    "# NOTE: this function is _not_ a class method, you can directly invoke it like this:\n",
    "print(str_trees(gt('a', gt('b')), gt('x', gt('y'), gt('z'))))"
   ]
  },
  {
   "cell_type": "markdown",
   "metadata": {
    "deletable": true,
    "editable": true
   },
   "source": [
    "### 0.5) Look at the tests\n",
    "\n",
    "Have a look at the `tree_test.py` file header:\n",
    "\n",
    "```python\n",
    "from tree import *\n",
    "from algolab import gt\n",
    "from algolab import GenericTreeTest\n",
    "import unittest\n",
    "```\n",
    "\n",
    "* First it imports `GenericTree` class from exercises files `tree`.\n",
    "* then it imports from  our toolbox library `algolab` tow things:\n",
    "    * `gt` function\n",
    "    * `GenericTreeTest`, from which all of tree tests inherit\n",
    "\n",
    "### 0.6) Look at algolab.GenericTreeTest\n",
    "\n",
    "\n",
    "Have a quick look at `GenericTreeTest` definitions inside `algolab.py` (don't stare too much at that file, the code violates pretty much all the principles I'm preaching):\n",
    "\n",
    "```python\n",
    "class GenericTreeTest(unittest.TestCase):\n",
    "\n",
    "    def assertReturnNone(self, ret, function_name):\n",
    "        \"\"\" Asserts method result ret equals None \"\"\"\n",
    "\n",
    "    def assertRoot(self, t):\n",
    "        \"\"\" Checks provided node t is a root, if not raises Exception \"\"\"\n",
    "\n",
    "    def assertTreeEqual(self, t1, t2):\n",
    "        \"\"\" Asserts the trees t1 and t2 are equal \"\"\"\n",
    "```\n",
    "\n",
    "We see we added extra asserts you will later find used around in test methods. Of these ones, the most important is `assertTreeEqual`: when you have complex data structures like trees, it is helpful being able to compare the tree you obtain from your method calls to the tree you expect. This assertion we created provides a way to quickly display such differences. "
   ]
  },
  {
   "cell_type": "markdown",
   "metadata": {
    "deletable": true,
    "editable": true
   },
   "source": [
    "\n",
    "\n",
    "## 1) Implement basic methods \n",
    "\n",
    "![](img/generic-tree-labeled.png)\n",
    "\n",
    "Start editing `tree.py`, implementing methods in `GenericTree` in the order you find them in the next points.\n",
    "\n",
    "<br/>\n",
    "<div class=\"alert alert-info\">\n",
    "\n",
    "**IMPORTANT**: All methods and functions without written inside `raise Exception(\"TODO IMPLEMENT ME!\")` are already provided and you don't need to edit them !\n",
    "</div>\n",
    "\n",
    "\n",
    "### 1.1) `insert_child`\n",
    "\n",
    "Implement method `insert_child`, which is the basic building block for our `GenericTree`:\n",
    "\n",
    "```python\n",
    "    def insert_child(self, new_child):        \n",
    "        \"\"\" Inserts new_child at the beginning of the children sequence. \"\"\"\n",
    "```\n",
    "\n",
    "**IMPORTANT**: before proceding, make sure the tests for it pass by running:\n",
    "\n",
    "`python3 -m unittest tree_test.InsertChildTest`\n",
    "\n",
    "**QUESTION**: Look at the tests, they are quite thourough and verbose. Why ?\n",
    "\n",
    "### 1.2) `insert_children`\n",
    "\n",
    "Implement `insert_children`:\n",
    "\n",
    "```python\n",
    "    def insert_children(self, new_children):        \n",
    "        \"\"\" Takes a list of children and inserts them at the beginning of the current children sequence,\n",
    "            \n",
    "            NOTE: in the new sequence new_children appear in the order they are passed to the function!\n",
    "            \n",
    "        \n",
    "            For example:\n",
    "                >>> t = gt('a', gt('b'), gt('c))\n",
    "                >>> print t\n",
    "                \n",
    "                a\n",
    "                ├b                                \n",
    "                └c\n",
    "\n",
    "                >>>  t.insert_children([gt('d'), gt('e')])\n",
    "                >>> print t               \n",
    "                \n",
    "                a\n",
    "                ├d\n",
    "                ├e\n",
    "                ├b                \n",
    "                └c\n",
    "        \"\"\"\n",
    "```\n",
    "\n",
    "\n",
    "**HINT 1**: try to reuse `insert_child`, but note it inserts only to the left. Calling it on the input sequence you would get wrong ordering in the tree. \n",
    "\n",
    "<br/>\n",
    "<div class=\"alert alert-warning\">\n",
    "\n",
    "**WARNING**: Function description does not say anything about changing the input `new_children`, so users calling your method don't expect you to modify it ! However, you can internally produce a new Python list out of the input one, if you wish to. \n",
    "</div>\n",
    "\n",
    "**Testing:**  `python3 -m unittest tree_test.InsertChildrenTest`\n",
    "\n",
    "### 1.3) `insert_sibling`\n",
    "\n",
    "\n",
    "Implement `insert_sibling`:\n",
    "\n",
    "```python\n",
    "    def insert_sibling(self, new_sibling):\n",
    "        \"\"\" Inserts new_sibling as the *immediate* next sibling.\n",
    "            \n",
    "            If self is a root, raises an Exception \n",
    "        \"\"\"\n",
    "```\n",
    "\n",
    "**Testing:**  `python3 -m unittest tree_test.InsertSiblingTest`\n",
    "\n",
    "**Examples:**\n",
    "\n"
   ]
  },
  {
   "cell_type": "code",
   "execution_count": 11,
   "metadata": {
    "collapsed": false,
    "deletable": true,
    "editable": true
   },
   "outputs": [
    {
     "name": "stdout",
     "output_type": "stream",
     "text": [
      "a\n",
      "├b\n",
      "└c\n"
     ]
    }
   ],
   "source": [
    "tb = gt('b')\n",
    "ta = gt('a', tb, gt('c'))\n",
    "print(ta)"
   ]
  },
  {
   "cell_type": "code",
   "execution_count": 12,
   "metadata": {
    "collapsed": false,
    "deletable": true,
    "editable": true
   },
   "outputs": [
    {
     "name": "stdout",
     "output_type": "stream",
     "text": [
      "x\n",
      "└y\n"
     ]
    }
   ],
   "source": [
    "tx = gt('x', gt('y'))\n",
    "print(tx)"
   ]
  },
  {
   "cell_type": "code",
   "execution_count": 13,
   "metadata": {
    "collapsed": false,
    "deletable": true,
    "editable": true
   },
   "outputs": [
    {
     "name": "stdout",
     "output_type": "stream",
     "text": [
      "a\n",
      "├b\n",
      "├x\n",
      "│└y\n",
      "└c\n"
     ]
    }
   ],
   "source": [
    "tb.insert_sibling(tx)\n",
    "print(ta)"
   ]
  },
  {
   "cell_type": "markdown",
   "metadata": {
    "deletable": true,
    "editable": true
   },
   "source": [
    "**QUESTION**: if you call `insert_sibling` an a root node such as `ta`, you should get an Exception. Why? Does it make sense to have parentless brothers ?\n",
    "\n",
    "```python\n",
    "ta.insert_sibling(g('z'))\n",
    "```\n",
    "\n",
    "```\n",
    "---------------------------------------------------------------------------\n",
    "Exception                                 Traceback (most recent call last)\n",
    "<ipython-input-35-a1e4ba8b1ee5> in <module>()\n",
    "----> 1 ta.insert_sibling(gt('z'))\n",
    "\n",
    "~/Da/prj/sciprolab2/prj/exercises/trees/tree_solution.py in insert_sibling(self, new_sibling)\n",
    "    128         \"\"\"\n",
    "    129         if (self.is_root()):\n",
    "--> 130             raise Exception(\"Can't add siblings to a root node !!\")\n",
    "    131 \n",
    "    132         new_sibling._parent = self._parent\n",
    "\n",
    "Exception: Can't add siblings to a root node !!\n",
    "```"
   ]
  },
  {
   "cell_type": "markdown",
   "metadata": {
    "deletable": true,
    "editable": true
   },
   "source": [
    "\n",
    "### 1.4) `insert_siblings`\n",
    "\n",
    "\n",
    "**Testing:**  `python3 -m unittest tree_test.InsertSiblingsTest`\n",
    "\n",
    "### 1.5) `detach_child`\n",
    "\n",
    "**QUESTION**: does a detached child have still any parent or sibling ?\n",
    "\n",
    "**Testing:**  `python3 -m unittest tree_test.DetachChildTest`\n",
    "\n",
    "### 1.6) `detach_sibling`\n",
    "\n",
    "**Testing:**  `python3 -m unittest tree_test.DetachSiblingTest`\n",
    "\n",
    "### 1.7) `detach`\n",
    "\n",
    "**Testing:**  `python3 -m unittest tree_test.DetachTest`\n",
    "\n",
    "### 1.8) `ancestors`\n",
    "\n",
    "![](img/generic-tree-labeled.png)\n",
    "\n",
    "Implement `ancestors`:\n",
    "\n",
    "```python\n",
    "def ancestors(self):\n",
    "        \"\"\" Return the ancestors up until the root as a Python list.             \n",
    "            First item in the list will be the parent of this node.\n",
    "\n",
    "            NOTE: this function return the *nodes*, not the data.\n",
    "        \"\"\"\n",
    "\n",
    "        raise Exception(\"TODO IMPLEMENT ME !\")\n",
    "```\n",
    "\n",
    "**Testing:** `python3 -m unittest tree_test.AncestorsTest`\n",
    "\n",
    "**Examples:**\n",
    "\n",
    "- ancestors of p:  f, b, a\n",
    "- ancestors of h:  c, a\n",
    "- ancestors of a:  empty list\n",
    "\n"
   ]
  },
  {
   "cell_type": "markdown",
   "metadata": {
    "deletable": true,
    "editable": true
   },
   "source": [
    "## 2) Implement more complex functions\n",
    "\n",
    "After you understood well and implemented the previous methods, you can continue with the following ones:\n",
    "\n",
    "### 2.1) `grandchildren`\n",
    "\n",
    "Implement the `grandchildren` method. *NOTE*: it returns the data inside the nodes, NOT the nodes !!!!!\n",
    "\n",
    "```python\n",
    "    def grandchildren(self):\n",
    "        \"\"\" Returns a python list containing the data of all the grandchildren of this\n",
    "            node.\n",
    "            \n",
    "            - Data must be from left to right order in the tree horizontal representation \n",
    "              (or up to down in the vertical representation). \n",
    "            - If there are no grandchildren, returns an empty array.\n",
    "            \n",
    "            For example, for this tree:\n",
    "            \n",
    "            a\n",
    "            ├b\n",
    "            │├c\n",
    "            │└d\n",
    "            │ └g\n",
    "            ├e\n",
    "            └f\n",
    "             └h  \n",
    "            \n",
    "            Returns ['c','d','h']\n",
    "        \"\"\"        \n",
    "```\n",
    "\n",
    "**Testing**: `python3 -m unittest tree_test.ZagTest`\n",
    "\n",
    "**Examples**:  \n"
   ]
  },
  {
   "cell_type": "code",
   "execution_count": 14,
   "metadata": {
    "collapsed": false,
    "deletable": true,
    "editable": true
   },
   "outputs": [
    {
     "name": "stdout",
     "output_type": "stream",
     "text": [
      "a\n",
      "└b\n",
      " └c\n"
     ]
    }
   ],
   "source": [
    "ta = gt('a', gt('b', gt('c')))\n",
    "print(ta)"
   ]
  },
  {
   "cell_type": "code",
   "execution_count": 15,
   "metadata": {
    "collapsed": false,
    "deletable": true,
    "editable": true
   },
   "outputs": [
    {
     "name": "stdout",
     "output_type": "stream",
     "text": [
      "['c']\n"
     ]
    }
   ],
   "source": [
    "print(ta.grandchildren())"
   ]
  },
  {
   "cell_type": "code",
   "execution_count": 16,
   "metadata": {
    "collapsed": false,
    "deletable": true,
    "editable": true
   },
   "outputs": [
    {
     "name": "stdout",
     "output_type": "stream",
     "text": [
      "a\n",
      "└b\n"
     ]
    }
   ],
   "source": [
    "ta = gt('a', gt('b'))\n",
    "print(ta)"
   ]
  },
  {
   "cell_type": "code",
   "execution_count": 17,
   "metadata": {
    "collapsed": false,
    "deletable": true,
    "editable": true
   },
   "outputs": [
    {
     "name": "stdout",
     "output_type": "stream",
     "text": [
      "[]\n"
     ]
    }
   ],
   "source": [
    "print(ta.grandchildren())"
   ]
  },
  {
   "cell_type": "code",
   "execution_count": 18,
   "metadata": {
    "collapsed": false,
    "deletable": true,
    "editable": true
   },
   "outputs": [
    {
     "name": "stdout",
     "output_type": "stream",
     "text": [
      "a\n",
      "├b\n",
      "│├c\n",
      "│└d\n",
      "└e\n",
      " └f\n"
     ]
    }
   ],
   "source": [
    "ta = gt('a', gt('b', gt('c'), gt('d')), gt('e', gt('f')) )\n",
    "print(ta)"
   ]
  },
  {
   "cell_type": "code",
   "execution_count": 19,
   "metadata": {
    "collapsed": false,
    "deletable": true,
    "editable": true
   },
   "outputs": [
    {
     "name": "stdout",
     "output_type": "stream",
     "text": [
      "['c', 'd', 'f']\n"
     ]
    }
   ],
   "source": [
    "print(ta.grandchildren())"
   ]
  },
  {
   "cell_type": "markdown",
   "metadata": {
    "deletable": true,
    "editable": true
   },
   "source": [
    "### 2.2) Zig Zag\n",
    "\n",
    "Here you will be visiting a generic tree in various ways.\n",
    "\n",
    "![](img/generic-tree-labeled.png)\n",
    "\n",
    "\n",
    "#### 2.2.1) zig\n",
    "\n",
    "The method zig must return as output a list of data of the root and all the nodes in the chain of child attributes. Basically, you just have to follow the red lines and gather data in a list, until there are no more red lines to follow. \n",
    "\n",
    "**Testing**: `python3 -m unittest tree_test.ZigTest`\n",
    "\n",
    "**Examples**: in the labeled tree in the image, these would be the results of calling zig on various nodes:\n",
    "\n",
    "    From a: ['a','b', 'e']\n",
    "    From b: ['b', 'e']\n",
    "    From c: ['c', 'g']\n",
    "    From h: ['h']\n",
    "    From q: ['h']\n",
    "    \n",
    "    \n",
    "\n",
    "#### 2.2.2) zag\n",
    "\n",
    "This function is quite similar to zig, but this time it gathers data going right, along the sibling arrows. \n",
    "\n",
    "**Testing**: `python3 -m unittest tree_test.ZagTest`\n",
    "\n",
    "**Examples**:  in the labeled tree in the image, these would be the results of calling zag on various nodes:\n",
    "\n",
    "    From a : ['a']\n",
    "    From b : ['b', 'c', 'd']\n",
    "    From o : ['o', 'p']\n",
    "\n",
    "\n",
    "#### 2.2.3) zigzag\n",
    "\n",
    "As you are surely thinking, zig and zag alone are boring. So let's mix the concepts, and go zigzaging. This time you will write a function zigzag, that first zigs collecting data along the child vertical red chain as much as it can. Then, if the last node links to at least a sibling, the method continues to collect data along the siblings horizontal chain as much as it can. At this point, if it finds a child, it goes zigging again along the child vertical red chain as much as it can, and then horizontal zaging, and so on. It continues zig-zaging like this until it reaches a node that has no child nor sibling: when this happens returns the list of data found so far.\n",
    "\n",
    "**Testing**: `python3 -m unittest tree_test.ZigZagTest`\n",
    "\n",
    "**Examples**: in the labeled tree in the image, these would be the results of calling zigzag on various nodes:\n",
    "\n",
    "    From a: ['a', 'b', 'e', 'f', 'o']\n",
    "    From c: ['c', 'g', 'h', 'i', 'q'] NOTE: if node h had a child z, the process would still proceed to i\n",
    "    From d: ['d', 'm', 'n']\n",
    "    From o: ['o', 'p']\n",
    "    From n: ['n']\n"
   ]
  },
  {
   "cell_type": "markdown",
   "metadata": {
    "deletable": true,
    "editable": true
   },
   "source": [
    "### 2.4) uncles\n",
    "\n",
    "Implement the `uncles` method:\n",
    "\n",
    "```python\n",
    "    def uncles(self):\n",
    "        \"\"\" Returns a python list containing the data of all the uncles of this\n",
    "            node (that is, *all* the siblings of its parent).\n",
    "            \n",
    "            NOTE: returns also the father siblings which are *BEFORE* the father !! \n",
    "            \n",
    "            - Data must be from left to right order in the tree horizontal representation \n",
    "              (or up to down in the vertical representation). \n",
    "            - If there are no uncles, returns an empty array.\n",
    "            \n",
    "            For example, for this tree:\n",
    "            \n",
    "            a\n",
    "            ├b\n",
    "            │├c\n",
    "            │└d\n",
    "            │ └g\n",
    "            ├e\n",
    "            │└h  \n",
    "            └f\n",
    "            \n",
    "            calling this method on 'h' returns ['b','f']\n",
    "        \"\"\"        \n",
    "```\n",
    "**Testing**: `python3 -m unittest tree_test.UnclesTest`\n",
    "\n",
    "**Example usages:**"
   ]
  },
  {
   "cell_type": "code",
   "execution_count": 20,
   "metadata": {
    "collapsed": false,
    "deletable": true,
    "editable": true
   },
   "outputs": [
    {
     "name": "stdout",
     "output_type": "stream",
     "text": [
      "a\n",
      "├b\n",
      "├c\n",
      "│└d\n",
      "└e\n"
     ]
    }
   ],
   "source": [
    "td = gt('d')\n",
    "tb = gt('b')\n",
    "ta = gt('a', tb,  gt('c', td), gt('e'))\n",
    "print(ta)"
   ]
  },
  {
   "cell_type": "code",
   "execution_count": 21,
   "metadata": {
    "collapsed": false,
    "deletable": true,
    "editable": true
   },
   "outputs": [
    {
     "name": "stdout",
     "output_type": "stream",
     "text": [
      "['b', 'e']\n"
     ]
    }
   ],
   "source": [
    "print(td.uncles())"
   ]
  },
  {
   "cell_type": "code",
   "execution_count": 22,
   "metadata": {
    "collapsed": false,
    "deletable": true,
    "editable": true
   },
   "outputs": [
    {
     "name": "stdout",
     "output_type": "stream",
     "text": [
      "[]\n"
     ]
    }
   ],
   "source": [
    "print(tb.uncles())"
   ]
  },
  {
   "cell_type": "markdown",
   "metadata": {
    "deletable": true,
    "editable": true
   },
   "source": [
    "### 2.5) common_ancestor\n",
    "\n",
    "![](img/generic-tree-labeled.png)\n",
    "\n",
    "Implement the method `common_ancestor`:\n",
    "\n",
    "```python\n",
    "    def common_ancestor(self, gt2):\n",
    "        \"\"\" Return the first common ancestor of current node and the provided gt2 node\n",
    "            If gt2 is not a node of the same tree, raises LookupError\n",
    "\n",
    "            NOTE: this function returns a *node*, not the data.\n",
    "\n",
    "            Ideally, this method should perform in O(h) where h is the height of the tree.\n",
    "            (Hint: you should use a Python Set). If you can't figure out how to make it \n",
    "            that fast, try to make it at worst O(h^2)\n",
    "\n",
    "        \"\"\"        \n",
    "\n",
    "        raise Exception(\"TODO IMPLEMENT ME !\")\n",
    "```\n",
    "\n",
    "**Testing**: `python3 -m unittest tree_test.CommonAncestorTest`\n",
    "\n",
    "**Examples:**\n",
    "\n",
    "- common ancestor of g and i: tree rooted at c\n",
    "- common_ancestor of g and q: tree rooted at c\n",
    "- common_ancestor of e and d: tree rooted at a"
   ]
  },
  {
   "cell_type": "markdown",
   "metadata": {
    "deletable": true,
    "editable": true
   },
   "source": [
    "### 2.6) mirror\n",
    "\n",
    "\n",
    "```python\n",
    "    def mirror(self):\n",
    "        \"\"\" Modifies this tree by mirroring it, that is, reverses the order\n",
    "            of all children of this node and of all its descendants\n",
    "            \n",
    "            - MUST work in O(n) where n is the number of nodes\n",
    "            - MUST change the order of nodes, NOT the data (so don't touch the data !)\n",
    "            - DON'T create new nodes            \n",
    "            - It is acceptable to use a recursive method.\n",
    "                    \n",
    "            \n",
    "            Example:\n",
    "            \n",
    "            a     <-    Becomes:    a\n",
    "            ├b                      ├i\n",
    "            │├c                     ├e\n",
    "            │└d                     │├h\n",
    "            ├e                      │├g\n",
    "            │├f                     │└f \n",
    "            │├g                     └b\n",
    "            │└h                      ├d\n",
    "            └i                       └c\n",
    "\n",
    "        \"\"\"\n",
    "```\n",
    "\n",
    "**Testing**: `python3 -m unittest tree_test.MirrorTest`\n"
   ]
  },
  {
   "cell_type": "markdown",
   "metadata": {
    "deletable": true,
    "editable": true
   },
   "source": [
    "### 2.7) clone\n",
    "\n",
    "Implement the method clone:\n",
    "\n",
    "```python\n",
    "    def clone(self):\n",
    "        \"\"\" Clones this tree, by returning an *entirely* new tree which is an \n",
    "            exact copy of this tree (so returned node and *all* its descendants must be new). \n",
    "\n",
    "            - MUST run in O(n) where n is the number of nodes\n",
    "            - a recursive method is acceptable.\n",
    "        \"\"\"\n",
    "\n",
    "        raise Exception(\"TODO IMPLEMENT ME !\")\n",
    "```\n",
    "\n",
    "**Testing**: `python3 -m unittest tree_test.CloneTest`"
   ]
  },
  {
   "cell_type": "code",
   "execution_count": 23,
   "metadata": {
    "collapsed": false,
    "deletable": true,
    "editable": true,
    "nbsphinx": "hidden"
   },
   "outputs": [
    {
     "name": "stderr",
     "output_type": "stream",
     "text": [
      ".............................................................\n",
      "----------------------------------------------------------------------\n",
      "Ran 61 tests in 0.070s\n",
      "\n",
      "OK\n"
     ]
    }
   ],
   "source": [
    "import algolab\n",
    "jupman.run_solution('tree')"
   ]
  },
  {
   "cell_type": "code",
   "execution_count": 24,
   "metadata": {
    "collapsed": false,
    "deletable": true,
    "editable": true,
    "nbsphinx": "hidden"
   },
   "outputs": [
    {
     "name": "stderr",
     "output_type": "stream",
     "text": [
      "...\n",
      "----------------------------------------------------------------------\n",
      "Ran 3 tests in 0.004s\n",
      "\n",
      "OK\n"
     ]
    }
   ],
   "source": [
    "jupman.run(algolab.GenericTreeTestTest)"
   ]
  },
  {
   "cell_type": "code",
   "execution_count": null,
   "metadata": {
    "collapsed": true,
    "deletable": true,
    "editable": true
   },
   "outputs": [],
   "source": []
  }
 ],
 "metadata": {
  "celltoolbar": "Edit Metadata",
  "kernelspec": {
   "display_name": "Python 3",
   "language": "python",
   "name": "python3"
  },
  "language_info": {
   "codemirror_mode": {
    "name": "ipython",
    "version": 3
   },
   "file_extension": ".py",
   "mimetype": "text/x-python",
   "name": "python",
   "nbconvert_exporter": "python",
   "pygments_lexer": "ipython3",
   "version": "3.5.2"
  }
 },
 "nbformat": 4,
 "nbformat_minor": 1
}
